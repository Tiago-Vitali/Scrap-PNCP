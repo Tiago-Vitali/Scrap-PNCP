{
 "cells": [
  {
   "cell_type": "code",
   "execution_count": 169,
   "metadata": {},
   "outputs": [],
   "source": [
    "import pandas as pd\n",
    "import requests\n",
    "from datetime import datetime\n",
    "from math import ceil\n",
    "from urllib.parse import urlencode\n",
    "import plotly.express as px\n",
    "import aiohttp\n",
    "import asyncio\n",
    "import nest_asyncio"
   ]
  },
  {
   "cell_type": "markdown",
   "metadata": {},
   "source": [
    "### Vamos analisar o payload da busca \"A receber/recebendo proposta\"\n",
    "\n",
    "<img src=\"assets/img/recebendo-proposta.jpg\" width=\"600\" alt=\"busca-recebendo-proposta\"/>\n",
    "<img src=\"assets/img/payload-recebendo-proposta.jpg\" width=\"600\" alt=\"payload-recebendo-proposta\"/>\n",
    "<br></br>\n",
    "<img src=\"assets/img/preview-recebendo-proposta.jpg\" width=\"600\" alt=\"preview-recebendo-proposta\"/>\n"
   ]
  },
  {
   "cell_type": "markdown",
   "metadata": {},
   "source": [
    "### Observamos no preview que a API nos fornece em \"filters\" diversas informações úteis como a quantidade de licitações \"recebendo proposta\" por ano, esferas, modalidade, municípios, orgão, poderes, tipos, tipo de contrato, estado e os 10 itens constantes na página sendo visualizada, além de o total geral de licitações recebendo propostas."
   ]
  },
  {
   "cell_type": "markdown",
   "metadata": {},
   "source": [
    "### Podemos gerar alguns gráficos para visualizarmos melhor algumas informações, tais como:\n",
    "\n",
    "- Quantidade de licitações recebendo propostas por estado;\n",
    "- Mapa da quantidade de licitações recebendo propostas por ano;\n",
    "- Quantidade de licitações recebendo propostas por modalidade;\n",
    "- Quantidade de licitações recebendo propostas por tipo;\n"
   ]
  },
  {
   "cell_type": "markdown",
   "metadata": {},
   "source": [
    "#### Vamos criar as funções necessárias."
   ]
  },
  {
   "cell_type": "code",
   "execution_count": 170,
   "metadata": {},
   "outputs": [],
   "source": [
    "def request_editais(editais_params):\n",
    "\n",
    "    r = requests.get('https://pncp.gov.br/api/search/', params=editais_params)\n",
    "    return r\n",
    "\n",
    "#Criando funções assíncronas para realizar o carregamento de múltiplas páginas em paralelo\n",
    "\n",
    "async def fetch_multiple(urls):\n",
    "    async with aiohttp.ClientSession() as session:\n",
    "        tasks = [fetch(session, url) for url in urls]\n",
    "        responses = await asyncio.gather(*tasks)\n",
    "    return responses\n",
    "\n",
    "async def fetch(session, url):\n",
    "    async with session.get(url) as response:\n",
    "        return await response.json()\n",
    "\n",
    "async def main(urls):\n",
    "    item =[]\n",
    "    urls = urls\n",
    "    responses = await fetch_multiple(urls)\n",
    "    for response in responses:\n",
    "        item.append(response)\n",
    "    return item"
   ]
  },
  {
   "cell_type": "code",
   "execution_count": 171,
   "metadata": {},
   "outputs": [],
   "source": [
    "params = {\n",
    "    'tipos_documento': 'edital',\n",
    "    'ordenacao': '-data',\n",
    "    'pagina': '1',\n",
    "    'tam_pagina': '10',\n",
    "    'status': 'recebendo_proposta',\n",
    "}\n",
    "\n",
    "r = requests.get('https://pncp.gov.br/api/search/', params=params)\n",
    "data = r.json()"
   ]
  },
  {
   "cell_type": "code",
   "execution_count": 172,
   "metadata": {},
   "outputs": [],
   "source": [
    "licit_anos = pd.DataFrame(data['filters']['anos'])\n",
    "licit_esferas = pd.DataFrame(data['filters']['esferas'])[['nome', 'total']]\n",
    "licit_modalidades = pd.DataFrame(data['filters']['modalidades'])\n",
    "licit_municipios = pd.DataFrame(data['filters']['municipios'])[['nome', 'total']]\n",
    "licit_orgaos = pd.DataFrame(data['filters']['orgaos'])\n",
    "licit_poderes = pd.DataFrame(data['filters']['poderes'])\n",
    "licit_tipo = pd.DataFrame(data['filters']['tipos'])\n",
    "licit_ufs = pd.DataFrame(data['filters']['ufs'])\n",
    "licit_unidades = pd.DataFrame(data['filters']['unidades'])[['nome', 'total']]"
   ]
  },
  {
   "cell_type": "code",
   "execution_count": 173,
   "metadata": {},
   "outputs": [
    {
     "data": {
      "application/vnd.plotly.v1+json": {
       "config": {
        "plotlyServerURL": "https://plot.ly"
       },
       "data": [
        {
         "type": "bar",
         "x": [
          "2021",
          "2022",
          "2023",
          "2024",
          "20244",
          "2025"
         ],
         "xaxis": "x",
         "y": [
          1,
          8,
          968,
          17681,
          1,
          26
         ],
         "yaxis": "y"
        },
        {
         "type": "bar",
         "x": [
          "SP",
          "MG",
          "PR",
          "RS",
          "SC",
          "GO",
          "BA",
          "RJ",
          "PB",
          "CE",
          "MT",
          "PE",
          "PI",
          "DF",
          "MA",
          "PA",
          "RN",
          "MS",
          "RO",
          "ES",
          "TO",
          "AM",
          "SE",
          "AL",
          "AP",
          "RR",
          "AC"
         ],
         "xaxis": "x2",
         "y": [
          2700,
          2582,
          2236,
          2168,
          1745,
          987,
          848,
          645,
          472,
          437,
          400,
          382,
          342,
          335,
          332,
          315,
          314,
          278,
          272,
          267,
          195,
          138,
          109,
          89,
          39,
          30,
          28
         ],
         "yaxis": "y2"
        },
        {
         "type": "bar",
         "x": [
          "Pregão - Eletrônico",
          "Dispensa",
          "Concorrência - Eletrônica",
          "Credenciamento",
          "Pregão - Presencial",
          "Concorrência - Presencial",
          "Dispensa de Licitação",
          "Leilão - Eletrônico",
          "Leilão - Presencial",
          "Concurso"
         ],
         "xaxis": "x3",
         "y": [
          11199,
          3408,
          2039,
          1415,
          313,
          183,
          39,
          34,
          23,
          17
         ],
         "yaxis": "y3"
        },
        {
         "type": "bar",
         "x": [
          "Edital",
          "Aviso de Contratação Direta",
          "Edital de Chamamento Público"
         ],
         "xaxis": "x4",
         "y": [
          14289,
          3418,
          978
         ],
         "yaxis": "y4"
        }
       ],
       "layout": {
        "annotations": [
         {
          "font": {
           "size": 16
          },
          "showarrow": false,
          "text": "Licitações recebendo propostas por ano",
          "x": 0.225,
          "xanchor": "center",
          "xref": "paper",
          "y": 1,
          "yanchor": "bottom",
          "yref": "paper"
         },
         {
          "font": {
           "size": 16
          },
          "showarrow": false,
          "text": "Licitações recebendo propostas por estado",
          "x": 0.775,
          "xanchor": "center",
          "xref": "paper",
          "y": 1,
          "yanchor": "bottom",
          "yref": "paper"
         },
         {
          "font": {
           "size": 16
          },
          "showarrow": false,
          "text": "Licitações recebendo propostas por modalidade",
          "x": 0.225,
          "xanchor": "center",
          "xref": "paper",
          "y": 0.375,
          "yanchor": "bottom",
          "yref": "paper"
         },
         {
          "font": {
           "size": 16
          },
          "showarrow": false,
          "text": "Licitações recebendo propostas por tipo",
          "x": 0.775,
          "xanchor": "center",
          "xref": "paper",
          "y": 0.375,
          "yanchor": "bottom",
          "yref": "paper"
         }
        ],
        "height": 700,
        "showlegend": false,
        "template": {
         "data": {
          "bar": [
           {
            "error_x": {
             "color": "#2a3f5f"
            },
            "error_y": {
             "color": "#2a3f5f"
            },
            "marker": {
             "line": {
              "color": "#E5ECF6",
              "width": 0.5
             },
             "pattern": {
              "fillmode": "overlay",
              "size": 10,
              "solidity": 0.2
             }
            },
            "type": "bar"
           }
          ],
          "barpolar": [
           {
            "marker": {
             "line": {
              "color": "#E5ECF6",
              "width": 0.5
             },
             "pattern": {
              "fillmode": "overlay",
              "size": 10,
              "solidity": 0.2
             }
            },
            "type": "barpolar"
           }
          ],
          "carpet": [
           {
            "aaxis": {
             "endlinecolor": "#2a3f5f",
             "gridcolor": "white",
             "linecolor": "white",
             "minorgridcolor": "white",
             "startlinecolor": "#2a3f5f"
            },
            "baxis": {
             "endlinecolor": "#2a3f5f",
             "gridcolor": "white",
             "linecolor": "white",
             "minorgridcolor": "white",
             "startlinecolor": "#2a3f5f"
            },
            "type": "carpet"
           }
          ],
          "choropleth": [
           {
            "colorbar": {
             "outlinewidth": 0,
             "ticks": ""
            },
            "type": "choropleth"
           }
          ],
          "contour": [
           {
            "colorbar": {
             "outlinewidth": 0,
             "ticks": ""
            },
            "colorscale": [
             [
              0,
              "#0d0887"
             ],
             [
              0.1111111111111111,
              "#46039f"
             ],
             [
              0.2222222222222222,
              "#7201a8"
             ],
             [
              0.3333333333333333,
              "#9c179e"
             ],
             [
              0.4444444444444444,
              "#bd3786"
             ],
             [
              0.5555555555555556,
              "#d8576b"
             ],
             [
              0.6666666666666666,
              "#ed7953"
             ],
             [
              0.7777777777777778,
              "#fb9f3a"
             ],
             [
              0.8888888888888888,
              "#fdca26"
             ],
             [
              1,
              "#f0f921"
             ]
            ],
            "type": "contour"
           }
          ],
          "contourcarpet": [
           {
            "colorbar": {
             "outlinewidth": 0,
             "ticks": ""
            },
            "type": "contourcarpet"
           }
          ],
          "heatmap": [
           {
            "colorbar": {
             "outlinewidth": 0,
             "ticks": ""
            },
            "colorscale": [
             [
              0,
              "#0d0887"
             ],
             [
              0.1111111111111111,
              "#46039f"
             ],
             [
              0.2222222222222222,
              "#7201a8"
             ],
             [
              0.3333333333333333,
              "#9c179e"
             ],
             [
              0.4444444444444444,
              "#bd3786"
             ],
             [
              0.5555555555555556,
              "#d8576b"
             ],
             [
              0.6666666666666666,
              "#ed7953"
             ],
             [
              0.7777777777777778,
              "#fb9f3a"
             ],
             [
              0.8888888888888888,
              "#fdca26"
             ],
             [
              1,
              "#f0f921"
             ]
            ],
            "type": "heatmap"
           }
          ],
          "heatmapgl": [
           {
            "colorbar": {
             "outlinewidth": 0,
             "ticks": ""
            },
            "colorscale": [
             [
              0,
              "#0d0887"
             ],
             [
              0.1111111111111111,
              "#46039f"
             ],
             [
              0.2222222222222222,
              "#7201a8"
             ],
             [
              0.3333333333333333,
              "#9c179e"
             ],
             [
              0.4444444444444444,
              "#bd3786"
             ],
             [
              0.5555555555555556,
              "#d8576b"
             ],
             [
              0.6666666666666666,
              "#ed7953"
             ],
             [
              0.7777777777777778,
              "#fb9f3a"
             ],
             [
              0.8888888888888888,
              "#fdca26"
             ],
             [
              1,
              "#f0f921"
             ]
            ],
            "type": "heatmapgl"
           }
          ],
          "histogram": [
           {
            "marker": {
             "pattern": {
              "fillmode": "overlay",
              "size": 10,
              "solidity": 0.2
             }
            },
            "type": "histogram"
           }
          ],
          "histogram2d": [
           {
            "colorbar": {
             "outlinewidth": 0,
             "ticks": ""
            },
            "colorscale": [
             [
              0,
              "#0d0887"
             ],
             [
              0.1111111111111111,
              "#46039f"
             ],
             [
              0.2222222222222222,
              "#7201a8"
             ],
             [
              0.3333333333333333,
              "#9c179e"
             ],
             [
              0.4444444444444444,
              "#bd3786"
             ],
             [
              0.5555555555555556,
              "#d8576b"
             ],
             [
              0.6666666666666666,
              "#ed7953"
             ],
             [
              0.7777777777777778,
              "#fb9f3a"
             ],
             [
              0.8888888888888888,
              "#fdca26"
             ],
             [
              1,
              "#f0f921"
             ]
            ],
            "type": "histogram2d"
           }
          ],
          "histogram2dcontour": [
           {
            "colorbar": {
             "outlinewidth": 0,
             "ticks": ""
            },
            "colorscale": [
             [
              0,
              "#0d0887"
             ],
             [
              0.1111111111111111,
              "#46039f"
             ],
             [
              0.2222222222222222,
              "#7201a8"
             ],
             [
              0.3333333333333333,
              "#9c179e"
             ],
             [
              0.4444444444444444,
              "#bd3786"
             ],
             [
              0.5555555555555556,
              "#d8576b"
             ],
             [
              0.6666666666666666,
              "#ed7953"
             ],
             [
              0.7777777777777778,
              "#fb9f3a"
             ],
             [
              0.8888888888888888,
              "#fdca26"
             ],
             [
              1,
              "#f0f921"
             ]
            ],
            "type": "histogram2dcontour"
           }
          ],
          "mesh3d": [
           {
            "colorbar": {
             "outlinewidth": 0,
             "ticks": ""
            },
            "type": "mesh3d"
           }
          ],
          "parcoords": [
           {
            "line": {
             "colorbar": {
              "outlinewidth": 0,
              "ticks": ""
             }
            },
            "type": "parcoords"
           }
          ],
          "pie": [
           {
            "automargin": true,
            "type": "pie"
           }
          ],
          "scatter": [
           {
            "fillpattern": {
             "fillmode": "overlay",
             "size": 10,
             "solidity": 0.2
            },
            "type": "scatter"
           }
          ],
          "scatter3d": [
           {
            "line": {
             "colorbar": {
              "outlinewidth": 0,
              "ticks": ""
             }
            },
            "marker": {
             "colorbar": {
              "outlinewidth": 0,
              "ticks": ""
             }
            },
            "type": "scatter3d"
           }
          ],
          "scattercarpet": [
           {
            "marker": {
             "colorbar": {
              "outlinewidth": 0,
              "ticks": ""
             }
            },
            "type": "scattercarpet"
           }
          ],
          "scattergeo": [
           {
            "marker": {
             "colorbar": {
              "outlinewidth": 0,
              "ticks": ""
             }
            },
            "type": "scattergeo"
           }
          ],
          "scattergl": [
           {
            "marker": {
             "colorbar": {
              "outlinewidth": 0,
              "ticks": ""
             }
            },
            "type": "scattergl"
           }
          ],
          "scattermapbox": [
           {
            "marker": {
             "colorbar": {
              "outlinewidth": 0,
              "ticks": ""
             }
            },
            "type": "scattermapbox"
           }
          ],
          "scatterpolar": [
           {
            "marker": {
             "colorbar": {
              "outlinewidth": 0,
              "ticks": ""
             }
            },
            "type": "scatterpolar"
           }
          ],
          "scatterpolargl": [
           {
            "marker": {
             "colorbar": {
              "outlinewidth": 0,
              "ticks": ""
             }
            },
            "type": "scatterpolargl"
           }
          ],
          "scatterternary": [
           {
            "marker": {
             "colorbar": {
              "outlinewidth": 0,
              "ticks": ""
             }
            },
            "type": "scatterternary"
           }
          ],
          "surface": [
           {
            "colorbar": {
             "outlinewidth": 0,
             "ticks": ""
            },
            "colorscale": [
             [
              0,
              "#0d0887"
             ],
             [
              0.1111111111111111,
              "#46039f"
             ],
             [
              0.2222222222222222,
              "#7201a8"
             ],
             [
              0.3333333333333333,
              "#9c179e"
             ],
             [
              0.4444444444444444,
              "#bd3786"
             ],
             [
              0.5555555555555556,
              "#d8576b"
             ],
             [
              0.6666666666666666,
              "#ed7953"
             ],
             [
              0.7777777777777778,
              "#fb9f3a"
             ],
             [
              0.8888888888888888,
              "#fdca26"
             ],
             [
              1,
              "#f0f921"
             ]
            ],
            "type": "surface"
           }
          ],
          "table": [
           {
            "cells": {
             "fill": {
              "color": "#EBF0F8"
             },
             "line": {
              "color": "white"
             }
            },
            "header": {
             "fill": {
              "color": "#C8D4E3"
             },
             "line": {
              "color": "white"
             }
            },
            "type": "table"
           }
          ]
         },
         "layout": {
          "annotationdefaults": {
           "arrowcolor": "#2a3f5f",
           "arrowhead": 0,
           "arrowwidth": 1
          },
          "autotypenumbers": "strict",
          "coloraxis": {
           "colorbar": {
            "outlinewidth": 0,
            "ticks": ""
           }
          },
          "colorscale": {
           "diverging": [
            [
             0,
             "#8e0152"
            ],
            [
             0.1,
             "#c51b7d"
            ],
            [
             0.2,
             "#de77ae"
            ],
            [
             0.3,
             "#f1b6da"
            ],
            [
             0.4,
             "#fde0ef"
            ],
            [
             0.5,
             "#f7f7f7"
            ],
            [
             0.6,
             "#e6f5d0"
            ],
            [
             0.7,
             "#b8e186"
            ],
            [
             0.8,
             "#7fbc41"
            ],
            [
             0.9,
             "#4d9221"
            ],
            [
             1,
             "#276419"
            ]
           ],
           "sequential": [
            [
             0,
             "#0d0887"
            ],
            [
             0.1111111111111111,
             "#46039f"
            ],
            [
             0.2222222222222222,
             "#7201a8"
            ],
            [
             0.3333333333333333,
             "#9c179e"
            ],
            [
             0.4444444444444444,
             "#bd3786"
            ],
            [
             0.5555555555555556,
             "#d8576b"
            ],
            [
             0.6666666666666666,
             "#ed7953"
            ],
            [
             0.7777777777777778,
             "#fb9f3a"
            ],
            [
             0.8888888888888888,
             "#fdca26"
            ],
            [
             1,
             "#f0f921"
            ]
           ],
           "sequentialminus": [
            [
             0,
             "#0d0887"
            ],
            [
             0.1111111111111111,
             "#46039f"
            ],
            [
             0.2222222222222222,
             "#7201a8"
            ],
            [
             0.3333333333333333,
             "#9c179e"
            ],
            [
             0.4444444444444444,
             "#bd3786"
            ],
            [
             0.5555555555555556,
             "#d8576b"
            ],
            [
             0.6666666666666666,
             "#ed7953"
            ],
            [
             0.7777777777777778,
             "#fb9f3a"
            ],
            [
             0.8888888888888888,
             "#fdca26"
            ],
            [
             1,
             "#f0f921"
            ]
           ]
          },
          "colorway": [
           "#636efa",
           "#EF553B",
           "#00cc96",
           "#ab63fa",
           "#FFA15A",
           "#19d3f3",
           "#FF6692",
           "#B6E880",
           "#FF97FF",
           "#FECB52"
          ],
          "font": {
           "color": "#2a3f5f"
          },
          "geo": {
           "bgcolor": "white",
           "lakecolor": "white",
           "landcolor": "#E5ECF6",
           "showlakes": true,
           "showland": true,
           "subunitcolor": "white"
          },
          "hoverlabel": {
           "align": "left"
          },
          "hovermode": "closest",
          "mapbox": {
           "style": "light"
          },
          "paper_bgcolor": "white",
          "plot_bgcolor": "#E5ECF6",
          "polar": {
           "angularaxis": {
            "gridcolor": "white",
            "linecolor": "white",
            "ticks": ""
           },
           "bgcolor": "#E5ECF6",
           "radialaxis": {
            "gridcolor": "white",
            "linecolor": "white",
            "ticks": ""
           }
          },
          "scene": {
           "xaxis": {
            "backgroundcolor": "#E5ECF6",
            "gridcolor": "white",
            "gridwidth": 2,
            "linecolor": "white",
            "showbackground": true,
            "ticks": "",
            "zerolinecolor": "white"
           },
           "yaxis": {
            "backgroundcolor": "#E5ECF6",
            "gridcolor": "white",
            "gridwidth": 2,
            "linecolor": "white",
            "showbackground": true,
            "ticks": "",
            "zerolinecolor": "white"
           },
           "zaxis": {
            "backgroundcolor": "#E5ECF6",
            "gridcolor": "white",
            "gridwidth": 2,
            "linecolor": "white",
            "showbackground": true,
            "ticks": "",
            "zerolinecolor": "white"
           }
          },
          "shapedefaults": {
           "line": {
            "color": "#2a3f5f"
           }
          },
          "ternary": {
           "aaxis": {
            "gridcolor": "white",
            "linecolor": "white",
            "ticks": ""
           },
           "baxis": {
            "gridcolor": "white",
            "linecolor": "white",
            "ticks": ""
           },
           "bgcolor": "#E5ECF6",
           "caxis": {
            "gridcolor": "white",
            "linecolor": "white",
            "ticks": ""
           }
          },
          "title": {
           "x": 0.05
          },
          "xaxis": {
           "automargin": true,
           "gridcolor": "white",
           "linecolor": "white",
           "ticks": "",
           "title": {
            "standoff": 15
           },
           "zerolinecolor": "white",
           "zerolinewidth": 2
          },
          "yaxis": {
           "automargin": true,
           "gridcolor": "white",
           "linecolor": "white",
           "ticks": "",
           "title": {
            "standoff": 15
           },
           "zerolinecolor": "white",
           "zerolinewidth": 2
          }
         }
        },
        "xaxis": {
         "anchor": "y",
         "domain": [
          0,
          0.45
         ]
        },
        "xaxis2": {
         "anchor": "y2",
         "domain": [
          0.55,
          1
         ]
        },
        "xaxis3": {
         "anchor": "y3",
         "domain": [
          0,
          0.45
         ]
        },
        "xaxis4": {
         "anchor": "y4",
         "domain": [
          0.55,
          1
         ]
        },
        "yaxis": {
         "anchor": "x",
         "domain": [
          0.625,
          1
         ]
        },
        "yaxis2": {
         "anchor": "x2",
         "domain": [
          0.625,
          1
         ]
        },
        "yaxis3": {
         "anchor": "x3",
         "domain": [
          0,
          0.375
         ]
        },
        "yaxis4": {
         "anchor": "x4",
         "domain": [
          0,
          0.375
         ]
        }
       }
      }
     },
     "metadata": {},
     "output_type": "display_data"
    }
   ],
   "source": [
    "from plotly.subplots import make_subplots\n",
    "import plotly.graph_objects as go\n",
    "\n",
    "# Initialize figure with subplots\n",
    "fig = make_subplots(rows=2, cols=2, subplot_titles=(\"Licitações recebendo propostas por ano\", \"Licitações recebendo propostas por estado\",\n",
    "                                                \"Licitações recebendo propostas por modalidade\", \"Licitações recebendo propostas por tipo\"))\n",
    "\n",
    "# Add traces\n",
    "\n",
    "#Licitações por ano\n",
    "licit_anos = licit_anos.sort_values(by='ano')\n",
    "fig.add_trace(go.Bar(x=licit_anos['ano'], y=licit_anos['total']), row=1, col=1),\n",
    "\n",
    "#Licitações por estado\n",
    "fig.add_trace(go.Bar(x=licit_ufs['id'], y=licit_ufs['total']), row=1, col=2)\n",
    "\n",
    "#Licitações por modalidade\n",
    "fig.add_trace(go.Bar(x=licit_modalidades['nome'], y=licit_modalidades['total']), row=2, col=1)\n",
    "\n",
    "#Licitações por tipo\n",
    "fig.add_trace(go.Bar(x=licit_tipo['nome'], y=licit_tipo['total']), row=2, col=2)\n",
    "\n",
    "# Update title and height\n",
    "fig.update_layout(showlegend=False, height=700)\n",
    "\n",
    "fig.show()"
   ]
  },
  {
   "cell_type": "markdown",
   "metadata": {},
   "source": [
    "#### Vamos criar um mapa do Brasil exibindo a quantidade de licitações por cidade, mas primeiro precisamos adicionar uma coluna com o total de licitações para cada munícipio na tabela \"coordenadas\""
   ]
  },
  {
   "cell_type": "code",
   "execution_count": 174,
   "metadata": {},
   "outputs": [
    {
     "data": {
      "text/html": [
       "<div>\n",
       "<style scoped>\n",
       "    .dataframe tbody tr th:only-of-type {\n",
       "        vertical-align: middle;\n",
       "    }\n",
       "\n",
       "    .dataframe tbody tr th {\n",
       "        vertical-align: top;\n",
       "    }\n",
       "\n",
       "    .dataframe thead th {\n",
       "        text-align: right;\n",
       "    }\n",
       "</style>\n",
       "<table border=\"1\" class=\"dataframe\">\n",
       "  <thead>\n",
       "    <tr style=\"text-align: right;\">\n",
       "      <th></th>\n",
       "      <th>municipio</th>\n",
       "      <th>latitude</th>\n",
       "      <th>longitude</th>\n",
       "    </tr>\n",
       "  </thead>\n",
       "  <tbody>\n",
       "    <tr>\n",
       "      <th>0</th>\n",
       "      <td>Abadia de Goiás</td>\n",
       "      <td>-16.75730</td>\n",
       "      <td>-49.4412</td>\n",
       "    </tr>\n",
       "    <tr>\n",
       "      <th>1</th>\n",
       "      <td>Abadia dos Dourados</td>\n",
       "      <td>-18.48310</td>\n",
       "      <td>-47.3916</td>\n",
       "    </tr>\n",
       "    <tr>\n",
       "      <th>2</th>\n",
       "      <td>Abadiânia</td>\n",
       "      <td>-16.19700</td>\n",
       "      <td>-48.7057</td>\n",
       "    </tr>\n",
       "    <tr>\n",
       "      <th>3</th>\n",
       "      <td>Abaeté</td>\n",
       "      <td>-19.15510</td>\n",
       "      <td>-45.4444</td>\n",
       "    </tr>\n",
       "    <tr>\n",
       "      <th>4</th>\n",
       "      <td>Abaetetuba</td>\n",
       "      <td>-1.72183</td>\n",
       "      <td>-48.8788</td>\n",
       "    </tr>\n",
       "  </tbody>\n",
       "</table>\n",
       "</div>"
      ],
      "text/plain": [
       "             municipio  latitude  longitude\n",
       "0      Abadia de Goiás -16.75730   -49.4412\n",
       "1  Abadia dos Dourados -18.48310   -47.3916\n",
       "2            Abadiânia -16.19700   -48.7057\n",
       "3               Abaeté -19.15510   -45.4444\n",
       "4           Abaetetuba  -1.72183   -48.8788"
      ]
     },
     "execution_count": 174,
     "metadata": {},
     "output_type": "execute_result"
    }
   ],
   "source": [
    "#Obtendo coordenadas dos municípios\n",
    "coordenadas = pd.read_csv('lat-long-municipios.csv', sep=',')\n",
    "coordenadas.head()"
   ]
  },
  {
   "cell_type": "code",
   "execution_count": 175,
   "metadata": {},
   "outputs": [
    {
     "data": {
      "text/html": [
       "<div>\n",
       "<style scoped>\n",
       "    .dataframe tbody tr th:only-of-type {\n",
       "        vertical-align: middle;\n",
       "    }\n",
       "\n",
       "    .dataframe tbody tr th {\n",
       "        vertical-align: top;\n",
       "    }\n",
       "\n",
       "    .dataframe thead th {\n",
       "        text-align: right;\n",
       "    }\n",
       "</style>\n",
       "<table border=\"1\" class=\"dataframe\">\n",
       "  <thead>\n",
       "    <tr style=\"text-align: right;\">\n",
       "      <th></th>\n",
       "      <th>municipio</th>\n",
       "      <th>total</th>\n",
       "      <th>latitude</th>\n",
       "      <th>longitude</th>\n",
       "    </tr>\n",
       "  </thead>\n",
       "  <tbody>\n",
       "    <tr>\n",
       "      <th>0</th>\n",
       "      <td>Rio de Janeiro</td>\n",
       "      <td>396</td>\n",
       "      <td>-22.9129</td>\n",
       "      <td>-43.2003</td>\n",
       "    </tr>\n",
       "    <tr>\n",
       "      <th>1</th>\n",
       "      <td>Brasília</td>\n",
       "      <td>335</td>\n",
       "      <td>-15.7795</td>\n",
       "      <td>-47.9297</td>\n",
       "    </tr>\n",
       "    <tr>\n",
       "      <th>2</th>\n",
       "      <td>São Paulo</td>\n",
       "      <td>330</td>\n",
       "      <td>-23.5329</td>\n",
       "      <td>-46.6395</td>\n",
       "    </tr>\n",
       "    <tr>\n",
       "      <th>3</th>\n",
       "      <td>Florianópolis</td>\n",
       "      <td>211</td>\n",
       "      <td>-27.5945</td>\n",
       "      <td>-48.5477</td>\n",
       "    </tr>\n",
       "    <tr>\n",
       "      <th>4</th>\n",
       "      <td>Curitiba</td>\n",
       "      <td>193</td>\n",
       "      <td>-25.4195</td>\n",
       "      <td>-49.2646</td>\n",
       "    </tr>\n",
       "    <tr>\n",
       "      <th>...</th>\n",
       "      <td>...</td>\n",
       "      <td>...</td>\n",
       "      <td>...</td>\n",
       "      <td>...</td>\n",
       "    </tr>\n",
       "    <tr>\n",
       "      <th>1090</th>\n",
       "      <td>Tremembé</td>\n",
       "      <td>5</td>\n",
       "      <td>-22.9571</td>\n",
       "      <td>-45.5475</td>\n",
       "    </tr>\n",
       "    <tr>\n",
       "      <th>1091</th>\n",
       "      <td>Ampére</td>\n",
       "      <td>5</td>\n",
       "      <td>-25.9168</td>\n",
       "      <td>-53.4686</td>\n",
       "    </tr>\n",
       "    <tr>\n",
       "      <th>1092</th>\n",
       "      <td>Bituruna</td>\n",
       "      <td>5</td>\n",
       "      <td>-26.1607</td>\n",
       "      <td>-51.5518</td>\n",
       "    </tr>\n",
       "    <tr>\n",
       "      <th>1093</th>\n",
       "      <td>Cafeara</td>\n",
       "      <td>5</td>\n",
       "      <td>-22.7890</td>\n",
       "      <td>-51.7142</td>\n",
       "    </tr>\n",
       "    <tr>\n",
       "      <th>1094</th>\n",
       "      <td>Califórnia</td>\n",
       "      <td>5</td>\n",
       "      <td>-23.6566</td>\n",
       "      <td>-51.3574</td>\n",
       "    </tr>\n",
       "  </tbody>\n",
       "</table>\n",
       "<p>1095 rows × 4 columns</p>\n",
       "</div>"
      ],
      "text/plain": [
       "           municipio  total  latitude  longitude\n",
       "0     Rio de Janeiro    396  -22.9129   -43.2003\n",
       "1           Brasília    335  -15.7795   -47.9297\n",
       "2          São Paulo    330  -23.5329   -46.6395\n",
       "3      Florianópolis    211  -27.5945   -48.5477\n",
       "4           Curitiba    193  -25.4195   -49.2646\n",
       "...              ...    ...       ...        ...\n",
       "1090        Tremembé      5  -22.9571   -45.5475\n",
       "1091          Ampére      5  -25.9168   -53.4686\n",
       "1092        Bituruna      5  -26.1607   -51.5518\n",
       "1093         Cafeara      5  -22.7890   -51.7142\n",
       "1094      Califórnia      5  -23.6566   -51.3574\n",
       "\n",
       "[1095 rows x 4 columns]"
      ]
     },
     "execution_count": 175,
     "metadata": {},
     "output_type": "execute_result"
    }
   ],
   "source": [
    "licit_municipios.rename(columns={'nome':'municipio'}, inplace=True)\n",
    "licit_municipios_lat_long = licit_municipios.merge(coordenadas, how='inner', on='municipio')\n",
    "licit_municipios_lat_long"
   ]
  },
  {
   "cell_type": "code",
   "execution_count": 176,
   "metadata": {},
   "outputs": [
    {
     "data": {
      "application/vnd.plotly.v1+json": {
       "config": {
        "plotlyServerURL": "https://plot.ly"
       },
       "data": [
        {
         "customdata": [
          [
           396
          ],
          [
           335
          ],
          [
           330
          ],
          [
           211
          ],
          [
           193
          ],
          [
           184
          ],
          [
           181
          ],
          [
           162
          ],
          [
           162
          ],
          [
           156
          ],
          [
           129
          ],
          [
           118
          ],
          [
           118
          ],
          [
           118
          ],
          [
           12
          ],
          [
           12
          ],
          [
           12
          ],
          [
           101
          ],
          [
           91
          ],
          [
           90
          ],
          [
           90
          ],
          [
           87
          ],
          [
           85
          ],
          [
           85
          ],
          [
           84
          ],
          [
           79
          ],
          [
           78
          ],
          [
           74
          ],
          [
           69
          ],
          [
           59
          ],
          [
           58
          ],
          [
           54
          ],
          [
           54
          ],
          [
           54
          ],
          [
           53
          ],
          [
           49
          ],
          [
           45
          ],
          [
           45
          ],
          [
           45
          ],
          [
           44
          ],
          [
           44
          ],
          [
           44
          ],
          [
           44
          ],
          [
           41
          ],
          [
           41
          ],
          [
           40
          ],
          [
           39
          ],
          [
           38
          ],
          [
           38
          ],
          [
           38
          ],
          [
           38
          ],
          [
           38
          ],
          [
           37
          ],
          [
           37
          ],
          [
           37
          ],
          [
           36
          ],
          [
           35
          ],
          [
           35
          ],
          [
           34
          ],
          [
           34
          ],
          [
           33
          ],
          [
           33
          ],
          [
           31
          ],
          [
           31
          ],
          [
           31
          ],
          [
           31
          ],
          [
           31
          ],
          [
           31
          ],
          [
           30
          ],
          [
           30
          ],
          [
           6
          ],
          [
           6
          ],
          [
           30
          ],
          [
           30
          ],
          [
           29
          ],
          [
           29
          ],
          [
           29
          ],
          [
           29
          ],
          [
           29
          ],
          [
           29
          ],
          [
           28
          ],
          [
           28
          ],
          [
           27
          ],
          [
           27
          ],
          [
           27
          ],
          [
           27
          ],
          [
           26
          ],
          [
           26
          ],
          [
           25
          ],
          [
           25
          ],
          [
           24
          ],
          [
           24
          ],
          [
           24
          ],
          [
           24
          ],
          [
           24
          ],
          [
           11
          ],
          [
           11
          ],
          [
           24
          ],
          [
           24
          ],
          [
           23
          ],
          [
           23
          ],
          [
           23
          ],
          [
           23
          ],
          [
           23
          ],
          [
           23
          ],
          [
           22
          ],
          [
           22
          ],
          [
           22
          ],
          [
           22
          ],
          [
           22
          ],
          [
           22
          ],
          [
           22
          ],
          [
           22
          ],
          [
           21
          ],
          [
           21
          ],
          [
           21
          ],
          [
           21
          ],
          [
           21
          ],
          [
           21
          ],
          [
           21
          ],
          [
           20
          ],
          [
           20
          ],
          [
           20
          ],
          [
           20
          ],
          [
           20
          ],
          [
           20
          ],
          [
           20
          ],
          [
           20
          ],
          [
           20
          ],
          [
           19
          ],
          [
           19
          ],
          [
           19
          ],
          [
           19
          ],
          [
           19
          ],
          [
           19
          ],
          [
           19
          ],
          [
           19
          ],
          [
           19
          ],
          [
           19
          ],
          [
           19
          ],
          [
           19
          ],
          [
           19
          ],
          [
           18
          ],
          [
           18
          ],
          [
           18
          ],
          [
           18
          ],
          [
           18
          ],
          [
           18
          ],
          [
           18
          ],
          [
           18
          ],
          [
           18
          ],
          [
           18
          ],
          [
           18
          ],
          [
           18
          ],
          [
           18
          ],
          [
           18
          ],
          [
           18
          ],
          [
           17
          ],
          [
           17
          ],
          [
           17
          ],
          [
           17
          ],
          [
           17
          ],
          [
           17
          ],
          [
           17
          ],
          [
           17
          ],
          [
           17
          ],
          [
           17
          ],
          [
           17
          ],
          [
           17
          ],
          [
           17
          ],
          [
           17
          ],
          [
           17
          ],
          [
           16
          ],
          [
           16
          ],
          [
           16
          ],
          [
           16
          ],
          [
           16
          ],
          [
           16
          ],
          [
           16
          ],
          [
           16
          ],
          [
           16
          ],
          [
           16
          ],
          [
           16
          ],
          [
           16
          ],
          [
           16
          ],
          [
           16
          ],
          [
           16
          ],
          [
           16
          ],
          [
           14
          ],
          [
           14
          ],
          [
           14
          ],
          [
           14
          ],
          [
           16
          ],
          [
           16
          ],
          [
           16
          ],
          [
           16
          ],
          [
           16
          ],
          [
           16
          ],
          [
           16
          ],
          [
           16
          ],
          [
           16
          ],
          [
           16
          ],
          [
           16
          ],
          [
           16
          ],
          [
           15
          ],
          [
           15
          ],
          [
           15
          ],
          [
           15
          ],
          [
           15
          ],
          [
           15
          ],
          [
           15
          ],
          [
           15
          ],
          [
           15
          ],
          [
           15
          ],
          [
           15
          ],
          [
           15
          ],
          [
           15
          ],
          [
           15
          ],
          [
           15
          ],
          [
           15
          ],
          [
           15
          ],
          [
           15
          ],
          [
           15
          ],
          [
           15
          ],
          [
           15
          ],
          [
           15
          ],
          [
           15
          ],
          [
           15
          ],
          [
           15
          ],
          [
           15
          ],
          [
           15
          ],
          [
           15
          ],
          [
           15
          ],
          [
           15
          ],
          [
           15
          ],
          [
           15
          ],
          [
           15
          ],
          [
           15
          ],
          [
           14
          ],
          [
           14
          ],
          [
           14
          ],
          [
           14
          ],
          [
           14
          ],
          [
           14
          ],
          [
           14
          ],
          [
           14
          ],
          [
           14
          ],
          [
           14
          ],
          [
           14
          ],
          [
           14
          ],
          [
           14
          ],
          [
           14
          ],
          [
           14
          ],
          [
           14
          ],
          [
           13
          ],
          [
           13
          ],
          [
           13
          ],
          [
           13
          ],
          [
           13
          ],
          [
           13
          ],
          [
           13
          ],
          [
           13
          ],
          [
           13
          ],
          [
           13
          ],
          [
           13
          ],
          [
           13
          ],
          [
           13
          ],
          [
           10
          ],
          [
           10
          ],
          [
           13
          ],
          [
           13
          ],
          [
           13
          ],
          [
           13
          ],
          [
           13
          ],
          [
           13
          ],
          [
           13
          ],
          [
           13
          ],
          [
           13
          ],
          [
           13
          ],
          [
           13
          ],
          [
           13
          ],
          [
           13
          ],
          [
           13
          ],
          [
           13
          ],
          [
           13
          ],
          [
           13
          ],
          [
           13
          ],
          [
           13
          ],
          [
           13
          ],
          [
           12
          ],
          [
           12
          ],
          [
           12
          ],
          [
           12
          ],
          [
           12
          ],
          [
           12
          ],
          [
           12
          ],
          [
           12
          ],
          [
           12
          ],
          [
           12
          ],
          [
           12
          ],
          [
           12
          ],
          [
           12
          ],
          [
           12
          ],
          [
           12
          ],
          [
           12
          ],
          [
           12
          ],
          [
           12
          ],
          [
           12
          ],
          [
           12
          ],
          [
           12
          ],
          [
           12
          ],
          [
           12
          ],
          [
           12
          ],
          [
           12
          ],
          [
           12
          ],
          [
           12
          ],
          [
           12
          ],
          [
           12
          ],
          [
           12
          ],
          [
           12
          ],
          [
           12
          ],
          [
           12
          ],
          [
           12
          ],
          [
           12
          ],
          [
           12
          ],
          [
           12
          ],
          [
           12
          ],
          [
           12
          ],
          [
           12
          ],
          [
           12
          ],
          [
           12
          ],
          [
           12
          ],
          [
           11
          ],
          [
           11
          ],
          [
           11
          ],
          [
           11
          ],
          [
           11
          ],
          [
           11
          ],
          [
           11
          ],
          [
           11
          ],
          [
           11
          ],
          [
           11
          ],
          [
           11
          ],
          [
           11
          ],
          [
           11
          ],
          [
           11
          ],
          [
           11
          ],
          [
           11
          ],
          [
           11
          ],
          [
           11
          ],
          [
           11
          ],
          [
           11
          ],
          [
           11
          ],
          [
           11
          ],
          [
           11
          ],
          [
           11
          ],
          [
           11
          ],
          [
           11
          ],
          [
           11
          ],
          [
           11
          ],
          [
           11
          ],
          [
           11
          ],
          [
           11
          ],
          [
           11
          ],
          [
           11
          ],
          [
           11
          ],
          [
           11
          ],
          [
           11
          ],
          [
           11
          ],
          [
           11
          ],
          [
           11
          ],
          [
           11
          ],
          [
           11
          ],
          [
           11
          ],
          [
           11
          ],
          [
           11
          ],
          [
           11
          ],
          [
           11
          ],
          [
           11
          ],
          [
           11
          ],
          [
           11
          ],
          [
           11
          ],
          [
           11
          ],
          [
           10
          ],
          [
           10
          ],
          [
           10
          ],
          [
           10
          ],
          [
           10
          ],
          [
           10
          ],
          [
           10
          ],
          [
           10
          ],
          [
           10
          ],
          [
           10
          ],
          [
           10
          ],
          [
           10
          ],
          [
           10
          ],
          [
           10
          ],
          [
           10
          ],
          [
           10
          ],
          [
           10
          ],
          [
           10
          ],
          [
           10
          ],
          [
           10
          ],
          [
           5
          ],
          [
           5
          ],
          [
           10
          ],
          [
           10
          ],
          [
           10
          ],
          [
           10
          ],
          [
           10
          ],
          [
           10
          ],
          [
           10
          ],
          [
           10
          ],
          [
           10
          ],
          [
           10
          ],
          [
           10
          ],
          [
           10
          ],
          [
           10
          ],
          [
           10
          ],
          [
           10
          ],
          [
           10
          ],
          [
           10
          ],
          [
           10
          ],
          [
           10
          ],
          [
           10
          ],
          [
           10
          ],
          [
           10
          ],
          [
           10
          ],
          [
           10
          ],
          [
           10
          ],
          [
           10
          ],
          [
           10
          ],
          [
           10
          ],
          [
           10
          ],
          [
           10
          ],
          [
           10
          ],
          [
           10
          ],
          [
           10
          ],
          [
           10
          ],
          [
           10
          ],
          [
           10
          ],
          [
           10
          ],
          [
           10
          ],
          [
           10
          ],
          [
           10
          ],
          [
           10
          ],
          [
           10
          ],
          [
           10
          ],
          [
           10
          ],
          [
           10
          ],
          [
           10
          ],
          [
           10
          ],
          [
           10
          ],
          [
           10
          ],
          [
           9
          ],
          [
           9
          ],
          [
           9
          ],
          [
           9
          ],
          [
           9
          ],
          [
           9
          ],
          [
           9
          ],
          [
           9
          ],
          [
           9
          ],
          [
           9
          ],
          [
           9
          ],
          [
           9
          ],
          [
           9
          ],
          [
           9
          ],
          [
           9
          ],
          [
           9
          ],
          [
           9
          ],
          [
           9
          ],
          [
           9
          ],
          [
           9
          ],
          [
           9
          ],
          [
           9
          ],
          [
           9
          ],
          [
           9
          ],
          [
           9
          ],
          [
           9
          ],
          [
           9
          ],
          [
           9
          ],
          [
           9
          ],
          [
           9
          ],
          [
           9
          ],
          [
           9
          ],
          [
           9
          ],
          [
           9
          ],
          [
           9
          ],
          [
           9
          ],
          [
           9
          ],
          [
           9
          ],
          [
           9
          ],
          [
           9
          ],
          [
           9
          ],
          [
           9
          ],
          [
           9
          ],
          [
           9
          ],
          [
           9
          ],
          [
           9
          ],
          [
           9
          ],
          [
           9
          ],
          [
           9
          ],
          [
           9
          ],
          [
           9
          ],
          [
           9
          ],
          [
           9
          ],
          [
           9
          ],
          [
           9
          ],
          [
           9
          ],
          [
           9
          ],
          [
           9
          ],
          [
           9
          ],
          [
           9
          ],
          [
           9
          ],
          [
           8
          ],
          [
           8
          ],
          [
           8
          ],
          [
           8
          ],
          [
           6
          ],
          [
           6
          ],
          [
           6
          ],
          [
           8
          ],
          [
           8
          ],
          [
           8
          ],
          [
           8
          ],
          [
           8
          ],
          [
           8
          ],
          [
           8
          ],
          [
           8
          ],
          [
           8
          ],
          [
           8
          ],
          [
           8
          ],
          [
           8
          ],
          [
           8
          ],
          [
           8
          ],
          [
           8
          ],
          [
           8
          ],
          [
           8
          ],
          [
           8
          ],
          [
           8
          ],
          [
           8
          ],
          [
           8
          ],
          [
           8
          ],
          [
           8
          ],
          [
           8
          ],
          [
           8
          ],
          [
           8
          ],
          [
           8
          ],
          [
           8
          ],
          [
           8
          ],
          [
           8
          ],
          [
           8
          ],
          [
           8
          ],
          [
           8
          ],
          [
           8
          ],
          [
           8
          ],
          [
           8
          ],
          [
           8
          ],
          [
           8
          ],
          [
           8
          ],
          [
           8
          ],
          [
           8
          ],
          [
           8
          ],
          [
           8
          ],
          [
           8
          ],
          [
           8
          ],
          [
           8
          ],
          [
           8
          ],
          [
           8
          ],
          [
           8
          ],
          [
           8
          ],
          [
           8
          ],
          [
           8
          ],
          [
           8
          ],
          [
           8
          ],
          [
           8
          ],
          [
           8
          ],
          [
           8
          ],
          [
           8
          ],
          [
           8
          ],
          [
           8
          ],
          [
           8
          ],
          [
           8
          ],
          [
           8
          ],
          [
           8
          ],
          [
           8
          ],
          [
           8
          ],
          [
           8
          ],
          [
           8
          ],
          [
           8
          ],
          [
           8
          ],
          [
           8
          ],
          [
           8
          ],
          [
           8
          ],
          [
           8
          ],
          [
           8
          ],
          [
           8
          ],
          [
           8
          ],
          [
           8
          ],
          [
           8
          ],
          [
           8
          ],
          [
           8
          ],
          [
           8
          ],
          [
           8
          ],
          [
           8
          ],
          [
           8
          ],
          [
           8
          ],
          [
           8
          ],
          [
           8
          ],
          [
           8
          ],
          [
           8
          ],
          [
           8
          ],
          [
           8
          ],
          [
           8
          ],
          [
           8
          ],
          [
           8
          ],
          [
           8
          ],
          [
           8
          ],
          [
           8
          ],
          [
           8
          ],
          [
           8
          ],
          [
           8
          ],
          [
           8
          ],
          [
           8
          ],
          [
           8
          ],
          [
           8
          ],
          [
           8
          ],
          [
           8
          ],
          [
           8
          ],
          [
           8
          ],
          [
           8
          ],
          [
           8
          ],
          [
           8
          ],
          [
           8
          ],
          [
           8
          ],
          [
           8
          ],
          [
           8
          ],
          [
           8
          ],
          [
           8
          ],
          [
           8
          ],
          [
           8
          ],
          [
           7
          ],
          [
           7
          ],
          [
           7
          ],
          [
           7
          ],
          [
           7
          ],
          [
           7
          ],
          [
           7
          ],
          [
           7
          ],
          [
           7
          ],
          [
           7
          ],
          [
           7
          ],
          [
           7
          ],
          [
           7
          ],
          [
           7
          ],
          [
           7
          ],
          [
           7
          ],
          [
           7
          ],
          [
           7
          ],
          [
           7
          ],
          [
           7
          ],
          [
           7
          ],
          [
           7
          ],
          [
           7
          ],
          [
           7
          ],
          [
           7
          ],
          [
           7
          ],
          [
           7
          ],
          [
           7
          ],
          [
           7
          ],
          [
           7
          ],
          [
           7
          ],
          [
           7
          ],
          [
           7
          ],
          [
           7
          ],
          [
           7
          ],
          [
           7
          ],
          [
           7
          ],
          [
           7
          ],
          [
           7
          ],
          [
           7
          ],
          [
           7
          ],
          [
           7
          ],
          [
           7
          ],
          [
           7
          ],
          [
           7
          ],
          [
           7
          ],
          [
           7
          ],
          [
           7
          ],
          [
           7
          ],
          [
           7
          ],
          [
           7
          ],
          [
           7
          ],
          [
           7
          ],
          [
           7
          ],
          [
           7
          ],
          [
           7
          ],
          [
           7
          ],
          [
           7
          ],
          [
           7
          ],
          [
           7
          ],
          [
           7
          ],
          [
           7
          ],
          [
           7
          ],
          [
           7
          ],
          [
           7
          ],
          [
           7
          ],
          [
           7
          ],
          [
           7
          ],
          [
           7
          ],
          [
           7
          ],
          [
           7
          ],
          [
           7
          ],
          [
           7
          ],
          [
           7
          ],
          [
           7
          ],
          [
           7
          ],
          [
           7
          ],
          [
           7
          ],
          [
           7
          ],
          [
           7
          ],
          [
           7
          ],
          [
           7
          ],
          [
           7
          ],
          [
           7
          ],
          [
           7
          ],
          [
           7
          ],
          [
           7
          ],
          [
           7
          ],
          [
           7
          ],
          [
           7
          ],
          [
           7
          ],
          [
           7
          ],
          [
           7
          ],
          [
           7
          ],
          [
           7
          ],
          [
           7
          ],
          [
           7
          ],
          [
           7
          ],
          [
           7
          ],
          [
           7
          ],
          [
           7
          ],
          [
           7
          ],
          [
           7
          ],
          [
           7
          ],
          [
           7
          ],
          [
           7
          ],
          [
           7
          ],
          [
           7
          ],
          [
           7
          ],
          [
           7
          ],
          [
           7
          ],
          [
           7
          ],
          [
           7
          ],
          [
           7
          ],
          [
           7
          ],
          [
           7
          ],
          [
           7
          ],
          [
           7
          ],
          [
           7
          ],
          [
           7
          ],
          [
           7
          ],
          [
           7
          ],
          [
           7
          ],
          [
           7
          ],
          [
           7
          ],
          [
           7
          ],
          [
           7
          ],
          [
           7
          ],
          [
           7
          ],
          [
           7
          ],
          [
           7
          ],
          [
           7
          ],
          [
           7
          ],
          [
           7
          ],
          [
           7
          ],
          [
           7
          ],
          [
           7
          ],
          [
           7
          ],
          [
           7
          ],
          [
           7
          ],
          [
           7
          ],
          [
           7
          ],
          [
           7
          ],
          [
           7
          ],
          [
           7
          ],
          [
           6
          ],
          [
           6
          ],
          [
           6
          ],
          [
           6
          ],
          [
           6
          ],
          [
           6
          ],
          [
           6
          ],
          [
           6
          ],
          [
           6
          ],
          [
           6
          ],
          [
           6
          ],
          [
           6
          ],
          [
           6
          ],
          [
           6
          ],
          [
           6
          ],
          [
           6
          ],
          [
           6
          ],
          [
           6
          ],
          [
           6
          ],
          [
           6
          ],
          [
           6
          ],
          [
           6
          ],
          [
           6
          ],
          [
           6
          ],
          [
           6
          ],
          [
           6
          ],
          [
           6
          ],
          [
           6
          ],
          [
           6
          ],
          [
           6
          ],
          [
           6
          ],
          [
           6
          ],
          [
           6
          ],
          [
           6
          ],
          [
           6
          ],
          [
           6
          ],
          [
           6
          ],
          [
           6
          ],
          [
           6
          ],
          [
           6
          ],
          [
           6
          ],
          [
           6
          ],
          [
           6
          ],
          [
           6
          ],
          [
           6
          ],
          [
           6
          ],
          [
           6
          ],
          [
           6
          ],
          [
           6
          ],
          [
           6
          ],
          [
           6
          ],
          [
           6
          ],
          [
           6
          ],
          [
           6
          ],
          [
           6
          ],
          [
           6
          ],
          [
           6
          ],
          [
           6
          ],
          [
           6
          ],
          [
           6
          ],
          [
           6
          ],
          [
           6
          ],
          [
           6
          ],
          [
           6
          ],
          [
           6
          ],
          [
           6
          ],
          [
           6
          ],
          [
           6
          ],
          [
           6
          ],
          [
           6
          ],
          [
           6
          ],
          [
           6
          ],
          [
           6
          ],
          [
           6
          ],
          [
           6
          ],
          [
           6
          ],
          [
           6
          ],
          [
           6
          ],
          [
           6
          ],
          [
           6
          ],
          [
           6
          ],
          [
           6
          ],
          [
           6
          ],
          [
           6
          ],
          [
           6
          ],
          [
           6
          ],
          [
           6
          ],
          [
           6
          ],
          [
           6
          ],
          [
           6
          ],
          [
           6
          ],
          [
           6
          ],
          [
           6
          ],
          [
           6
          ],
          [
           6
          ],
          [
           6
          ],
          [
           6
          ],
          [
           6
          ],
          [
           6
          ],
          [
           6
          ],
          [
           6
          ],
          [
           6
          ],
          [
           6
          ],
          [
           6
          ],
          [
           6
          ],
          [
           6
          ],
          [
           6
          ],
          [
           6
          ],
          [
           6
          ],
          [
           6
          ],
          [
           6
          ],
          [
           6
          ],
          [
           6
          ],
          [
           6
          ],
          [
           6
          ],
          [
           6
          ],
          [
           6
          ],
          [
           6
          ],
          [
           6
          ],
          [
           6
          ],
          [
           6
          ],
          [
           6
          ],
          [
           6
          ],
          [
           6
          ],
          [
           6
          ],
          [
           6
          ],
          [
           6
          ],
          [
           6
          ],
          [
           6
          ],
          [
           6
          ],
          [
           6
          ],
          [
           6
          ],
          [
           6
          ],
          [
           6
          ],
          [
           6
          ],
          [
           6
          ],
          [
           6
          ],
          [
           6
          ],
          [
           6
          ],
          [
           6
          ],
          [
           6
          ],
          [
           6
          ],
          [
           6
          ],
          [
           6
          ],
          [
           6
          ],
          [
           6
          ],
          [
           6
          ],
          [
           6
          ],
          [
           6
          ],
          [
           6
          ],
          [
           6
          ],
          [
           6
          ],
          [
           6
          ],
          [
           6
          ],
          [
           6
          ],
          [
           6
          ],
          [
           6
          ],
          [
           6
          ],
          [
           6
          ],
          [
           6
          ],
          [
           6
          ],
          [
           6
          ],
          [
           6
          ],
          [
           6
          ],
          [
           6
          ],
          [
           6
          ],
          [
           6
          ],
          [
           6
          ],
          [
           6
          ],
          [
           6
          ],
          [
           6
          ],
          [
           6
          ],
          [
           6
          ],
          [
           6
          ],
          [
           6
          ],
          [
           6
          ],
          [
           6
          ],
          [
           6
          ],
          [
           6
          ],
          [
           6
          ],
          [
           6
          ],
          [
           6
          ],
          [
           6
          ],
          [
           6
          ],
          [
           6
          ],
          [
           6
          ],
          [
           6
          ],
          [
           5
          ],
          [
           5
          ],
          [
           5
          ],
          [
           5
          ],
          [
           5
          ],
          [
           5
          ],
          [
           5
          ],
          [
           5
          ],
          [
           5
          ],
          [
           5
          ],
          [
           5
          ],
          [
           5
          ],
          [
           5
          ],
          [
           5
          ],
          [
           5
          ],
          [
           5
          ],
          [
           5
          ],
          [
           5
          ],
          [
           5
          ],
          [
           5
          ],
          [
           5
          ],
          [
           5
          ],
          [
           5
          ],
          [
           5
          ],
          [
           5
          ],
          [
           5
          ],
          [
           5
          ],
          [
           5
          ],
          [
           5
          ],
          [
           5
          ],
          [
           5
          ],
          [
           5
          ],
          [
           5
          ],
          [
           5
          ],
          [
           5
          ],
          [
           5
          ],
          [
           5
          ],
          [
           5
          ],
          [
           5
          ],
          [
           5
          ],
          [
           5
          ],
          [
           5
          ],
          [
           5
          ],
          [
           5
          ],
          [
           5
          ],
          [
           5
          ],
          [
           5
          ],
          [
           5
          ],
          [
           5
          ],
          [
           5
          ],
          [
           5
          ],
          [
           5
          ],
          [
           5
          ],
          [
           5
          ],
          [
           5
          ],
          [
           5
          ],
          [
           5
          ],
          [
           5
          ],
          [
           5
          ],
          [
           5
          ],
          [
           5
          ],
          [
           5
          ],
          [
           5
          ],
          [
           5
          ],
          [
           5
          ],
          [
           5
          ],
          [
           5
          ],
          [
           5
          ],
          [
           5
          ],
          [
           5
          ],
          [
           5
          ],
          [
           5
          ],
          [
           5
          ],
          [
           5
          ],
          [
           5
          ],
          [
           5
          ],
          [
           5
          ],
          [
           5
          ],
          [
           5
          ],
          [
           5
          ],
          [
           5
          ],
          [
           5
          ],
          [
           5
          ],
          [
           5
          ],
          [
           5
          ],
          [
           5
          ],
          [
           5
          ],
          [
           5
          ],
          [
           5
          ],
          [
           5
          ],
          [
           5
          ],
          [
           5
          ],
          [
           5
          ],
          [
           5
          ],
          [
           5
          ],
          [
           5
          ],
          [
           5
          ],
          [
           5
          ],
          [
           5
          ],
          [
           5
          ],
          [
           5
          ],
          [
           5
          ],
          [
           5
          ],
          [
           5
          ],
          [
           5
          ],
          [
           5
          ],
          [
           5
          ],
          [
           5
          ],
          [
           5
          ],
          [
           5
          ],
          [
           5
          ],
          [
           5
          ],
          [
           5
          ],
          [
           5
          ],
          [
           5
          ],
          [
           5
          ],
          [
           5
          ],
          [
           5
          ],
          [
           5
          ],
          [
           5
          ],
          [
           5
          ]
         ],
         "hovertemplate": "<b>%{hovertext}</b><br><br>total=%{customdata[0]}<br>latitude=%{lat}<br>longitude=%{lon}<extra></extra>",
         "hovertext": [
          "Rio de Janeiro",
          "Brasília",
          "São Paulo",
          "Florianópolis",
          "Curitiba",
          "Porto Alegre",
          "Fortaleza",
          "Toledo",
          "Toledo",
          "Belo Horizonte",
          "Recife",
          "Belém",
          "Belém",
          "Belém",
          "Belém",
          "Belém",
          "Belém",
          "Goiânia",
          "Manaus",
          "Campo Grande",
          "Campo Grande",
          "Salvador",
          "Vitória",
          "Jaguariúna",
          "Piracicaba",
          "Paranavaí",
          "Porto Velho",
          "Cuiabá",
          "Montes Claros",
          "Natal",
          "Santiago",
          "Atibaia",
          "Palmas",
          "Palmas",
          "Novo Hamburgo",
          "Juiz de Fora",
          "São José do Rio Preto",
          "Palhoça",
          "Rio Verde",
          "Uberlândia",
          "Niterói",
          "Bauru",
          "Maringá",
          "Jundiaí",
          "Porangatu",
          "Arapongas",
          "São Luís",
          "Maceió",
          "Campo Belo",
          "Marília",
          "Taubaté",
          "Joinville",
          "Aracaju",
          "São Bernardo do Campo",
          "Ponta Grossa",
          "Presidente Getúlio",
          "Santa Maria",
          "Santa Maria",
          "Farroupilha",
          "Minaçu",
          "Itamarandiba",
          "Caxias do Sul",
          "Mata de São João",
          "Campinas",
          "São José dos Campos",
          "Rio Negro",
          "Rio Negro",
          "Goianésia",
          "Boa Vista",
          "Boa Vista",
          "Boa Vista",
          "Boa Vista",
          "Barueri",
          "Teresina",
          "Macaé",
          "Limeira",
          "Londrina",
          "Camboriú",
          "Rio do Sul",
          "Rio Grande",
          "Sete Lagoas",
          "Itu",
          "São Carlos",
          "São Carlos",
          "Cascavel",
          "Cascavel",
          "Macapá",
          "Uberaba",
          "João Pessoa",
          "Umuarama",
          "Caraguatatuba",
          "Indaiatuba",
          "Jaboticabal",
          "Guaíra",
          "Guaíra",
          "Guaíra",
          "Guaíra",
          "Chapecó",
          "Guaporé",
          "Pará de Minas",
          "Brusque",
          "Balneário Piçarras",
          "Mineiros",
          "Rio Branco",
          "Rio Branco",
          "Carmo do Paranaíba",
          "Botucatu",
          "Rio Claro",
          "Rio Claro",
          "Canoinhas",
          "Porto Belo",
          "Erechim",
          "Esteio",
          "Araçatuba",
          "Prudentópolis",
          "Itá",
          "Pomerode",
          "São Bento do Sul",
          "Cruz Alta",
          "Montenegro",
          "Turvo",
          "Turvo",
          "Agrolândia",
          "Chapadão do Lageado",
          "Irani",
          "Ivoti",
          "Santo Ângelo",
          "Primavera do Leste",
          "Indiara",
          "Jaru",
          "Inhambupe",
          "Vilhena",
          "Caxambu",
          "São Lourenço",
          "Ariquemes",
          "Presidente Bernardes",
          "Presidente Bernardes",
          "Salto",
          "Laranjeiras do Sul",
          "Bento Gonçalves",
          "São Marcos",
          "Bom Jesus de Goiás",
          "Patos de Minas",
          "Volta Redonda",
          "Carapicuíba",
          "Catanduva",
          "Ribeirão Preto",
          "Cambé",
          "Pinhais",
          "Apiúna",
          "Pinhalzinho",
          "Pinhalzinho",
          "São José do Cedro",
          "São Miguel do Oeste",
          "Tijucas",
          "Candelária",
          "Não-Me-Toque",
          "Gandu",
          "Araxá",
          "Catas Altas",
          "Itajubá",
          "Ponte Nova",
          "Domingos Martins",
          "Assis",
          "Guariba",
          "Serra Negra",
          "Terra Roxa",
          "Terra Roxa",
          "Ascurra",
          "Faxinal dos Guedes",
          "São Francisco do Sul",
          "São Miguel das Missões",
          "Capim Grosso",
          "São Joaquim de Bicas",
          "Vila Velha",
          "Barra Mansa",
          "Araraquara",
          "Franca",
          "Lençóis Paulista",
          "Piraju",
          "Presidente Prudente",
          "São Roque",
          "Francisco Beltrão",
          "Mandaguari",
          "Santa Helena",
          "Santa Helena",
          "Santa Helena",
          "Santa Helena",
          "Santa Helena",
          "Santa Helena",
          "Santa Helena",
          "Santa Helena",
          "Terra Boa",
          "Balneário Camboriú",
          "Nova Veneza",
          "Nova Veneza",
          "Taió",
          "Cachoeira do Sul",
          "Flores da Cunha",
          "Tapejara",
          "Tapejara",
          "Triunfo",
          "Triunfo",
          "Triunfo",
          "Amargosa",
          "Canaã dos Carajás",
          "Extrema",
          "Itabira",
          "Juatuba",
          "Nova Friburgo",
          "Hortolândia",
          "Chupinguaia",
          "Jacareí",
          "Monte Alto",
          "Astorga",
          "Campina da Lagoa",
          "Campo Mourão",
          "Paraíso do Tocantins",
          "Irati",
          "Irati",
          "Ivaiporã",
          "Palmeira",
          "Palmeira",
          "Santa Izabel do Oeste",
          "Ituporanga",
          "Joaçaba",
          "Lages",
          "Três Barras",
          "Alegrete",
          "Carlos Barbosa",
          "Guaíba",
          "Nova Petrópolis",
          "Pelotas",
          "Soledade",
          "Soledade",
          "Nova Andradina",
          "Campo Verde",
          "Turvânia",
          "Divinópolis",
          "João Monlevade",
          "Lavras",
          "Serro",
          "Timóteo",
          "Três Pontas",
          "Maripá",
          "Missal",
          "Benedito Novo",
          "Garopaba",
          "Ijuí",
          "São José do Sul",
          "Taquara",
          "Cáceres",
          "Lucas do Rio Verde",
          "Iporá",
          "Cambuquira",
          "Guaxupé",
          "Piumhi",
          "Santa Maria do Suaçuí",
          "Bragança Paulista",
          "Capivari",
          "Santo Antônio de Posse",
          "Corbélia",
          "Marechal Cândido Rondon",
          "Maria Helena",
          "Realeza",
          "Barra Bonita",
          "Barra Bonita",
          "Barra Bonita",
          "Barra Bonita",
          "Içara",
          "Boa Vista do Sul",
          "Bom Princípio",
          "Dois Irmãos",
          "Gramado",
          "Ibirubá",
          "Passo Fundo",
          "Vera Cruz",
          "Vera Cruz",
          "Vera Cruz",
          "Vera Cruz",
          "Xangri-lá",
          "Três Lagoas",
          "Morrinhos",
          "Morrinhos",
          "São Domingos",
          "São Domingos",
          "São Domingos",
          "São Domingos",
          "São Domingos",
          "Extremoz",
          "Campina Grande",
          "Andradas",
          "Cláudio",
          "Conquista",
          "Santarém",
          "Lagoa da Prata",
          "Pouso Alegre",
          "Pratápolis",
          "Sacramento",
          "Santo Antônio do Monte",
          "Ilhabela",
          "Itapira",
          "Paraguaçu Paulista",
          "Sorocaba",
          "Tatuí",
          "Tietê",
          "Apucarana",
          "Castro",
          "Cornélio Procópio",
          "Entre Rios do Oeste",
          "Goioerê",
          "Itaperuçu",
          "Medianeira",
          "Terra Rica",
          "Concórdia",
          "Criciúma",
          "Erval Velho",
          "Guaramirim",
          "Jaraguá do Sul",
          "Mirim Doce",
          "Tangará",
          "Tangará",
          "Braga",
          "Capão da Canoa",
          "Horizontina",
          "São Sepé",
          "Cassilândia",
          "Pontes e Lacerda",
          "Aparecida do Rio Doce",
          "Aragoiânia",
          "Guapó",
          "Palmeiras de Goiás",
          "Catolé do Rocha",
          "Guarabira",
          "Irecê",
          "Baependi",
          "Carangola",
          "Lambari",
          "Passos",
          "Pirapora",
          "Vargem Alta",
          "Angra dos Reis",
          "São Pedro da Aldeia",
          "Amparo",
          "Amparo",
          "Guarujá",
          "Guarulhos",
          "Ipaussu",
          "Leme",
          "Miracatu",
          "Mirassol",
          "Balsa Nova",
          "Guaraniaçu",
          "Nova Prata do Iguaçu",
          "Primeiro de Maio",
          "Telêmaco Borba",
          "Araranguá",
          "Guaraciaba",
          "Guaraciaba",
          "Itajaí",
          "Itapiranga",
          "Itapiranga",
          "São Bernardino",
          "Videira",
          "Canguçu",
          "Encruzilhada do Sul",
          "Frederico Westphalen",
          "Imbé",
          "Independência",
          "Independência",
          "Lajeado",
          "Lajeado",
          "Piratini",
          "Santa Bárbara do Sul",
          "Torres",
          "Tupanciretã",
          "Sonora",
          "Colíder",
          "Anicuns",
          "Rubiataba",
          "Cerejeiras",
          "Ipaporanga",
          "Espigão D'Oeste",
          "Alto do Rodrigues",
          "Caruaru",
          "Bom Jesus da Lapa",
          "Planalto",
          "Planalto",
          "Planalto",
          "Planalto",
          "Bom Despacho",
          "Bom Jesus da Penha",
          "Borda da Mata",
          "Carmo do Cajuru",
          "Inhapim",
          "Jeceaba",
          "Juruaia",
          "Machado",
          "Monsenhor Paulo",
          "Muriaé",
          "Poços de Caldas",
          "Buritis",
          "Buritis",
          "Buritis",
          "Buritis",
          "Três Corações",
          "Visconde do Rio Branco",
          "Avaré",
          "Birigui",
          "Caçapava",
          "Cerqueira César",
          "Fernandópolis",
          "Guararema",
          "Pirassununga",
          "Presidente Venceslau",
          "Santa Fé do Sul",
          "São Vicente",
          "São Vicente",
          "Votuporanga",
          "Cruzeiro do Iguaçu",
          "Florestópolis",
          "Guarapuava",
          "Itaúna do Sul",
          "Nova Esperança",
          "Ortigueira",
          "Pato Bragado",
          "Pitangueiras",
          "Pitangueiras",
          "Santo Antônio da Platina",
          "São João do Ivaí",
          "Sertanópolis",
          "Tijucas do Sul",
          "Balneário Barra do Sul",
          "Celso Ramos",
          "Gravatal",
          "Modelo",
          "Morro da Fumaça",
          "Rio dos Cedros",
          "Riqueza",
          "Alto Feliz",
          "Capão do Cipó",
          "Igrejinha",
          "Marau",
          "Monte Belo do Sul",
          "Santo Antônio da Patrulha",
          "São José do Norte",
          "Vila Maria",
          "Aripuanã",
          "Mirassol d'Oeste",
          "Rondonópolis",
          "Firminópolis",
          "Goiás",
          "Perolândia",
          "São Luís de Montes Belos",
          "Milhã",
          "Boqueirão",
          "Serra Talhada",
          "Boca da Mata",
          "Barra do Choça",
          "Caetité",
          "Canavieiras",
          "Itaituba",
          "Alvinópolis",
          "Arcos",
          "Itaúna",
          "Marmelópolis",
          "Nova Resende",
          "Patrocínio",
          "Rio Pomba",
          "Salinas",
          "Teófilo Otoni",
          "Ubá",
          "Dores do Rio Preto",
          "Maricá",
          "Batatais",
          "Cajati",
          "Cunha",
          "Divinolândia",
          "Guaratinguetá",
          "Ibitinga",
          "Itapeva",
          "Itapeva",
          "Junqueirópolis",
          "Peruíbe",
          "Pindorama",
          "Candói",
          "Capitão Leônidas Marques",
          "Dois Vizinhos",
          "Espigão Alto do Iguaçu",
          "Honório Serpa",
          "Ivaí",
          "Marialva",
          "Paraíso do Norte",
          "São João",
          "São João",
          "São Miguel do Iguaçu",
          "Bom Retiro",
          "Coronel Freitas",
          "Ibirama",
          "Porto União",
          "Dom Pedrito",
          "Barra do Corda",
          "Ilópolis",
          "Imigrante",
          "Mostardas",
          "Osório",
          "Santa Cruz do Sul",
          "São Borja",
          "Cacoal",
          "Sapiranga",
          "Vacaria",
          "Amambai",
          "Aragarças",
          "Uruaçu",
          "Valparaíso de Goiás",
          "Espírito Santo",
          "Santa Cruz",
          "Santa Cruz",
          "Santa Cruz",
          "Santa Cruz",
          "Santa Cruz",
          "Santa Cruz",
          "Touros",
          "Alagoa Nova",
          "Bernardino Batista",
          "Brejo do Cruz",
          "Ji-Paraná",
          "Urucará",
          "Pocinhos",
          "Sumé",
          "Casinhas",
          "Pimenta Bueno",
          "Caculé",
          "Itapetinga",
          "Poções",
          "Arantina",
          "Areado",
          "Bela Vista de Minas",
          "Carandaí",
          "Espera Feliz",
          "Ibiá",
          "Itabirito",
          "Itatiaiuçu",
          "João Pinheiro",
          "Lagoa Formosa",
          "Lontra",
          "Manhuaçu",
          "Oliveira",
          "Oliveira Fortes",
          "Ouro Branco",
          "Ouro Branco",
          "Ouro Branco",
          "Ouro Fino",
          "Perdigão",
          "Perdões",
          "Tucumã",
          "Varginha",
          "Viçosa",
          "Viçosa",
          "Viçosa",
          "Ibatiba",
          "Araguaína",
          "Adamantina",
          "Bariri",
          "Barretos",
          "Bom Jesus dos Perdões",
          "Capão Bonito",
          "Cotia",
          "Diadema",
          "Dois Córregos",
          "Guapiaçu",
          "Ibiúna",
          "Jandira",
          "Paulínia",
          "Tuiuti",
          "Ministro Andreazza",
          "Alvorada do Sul",
          "Barra do Jacaré",
          "Bocaiúva do Sul",
          "Campina Grande do Sul",
          "Céu Azul",
          "Diamante D'Oeste",
          "Douradina",
          "Douradina",
          "Faxinal",
          "Foz do Iguaçu",
          "Joaquim Távora",
          "Jussara",
          "Jussara",
          "Jussara",
          "Nova Esperança do Sudoeste",
          "Pinhão",
          "Pinhão",
          "Pontal do Paraná",
          "Porto Vitória",
          "Rio Branco do Sul",
          "Ubiratã",
          "Biguaçu",
          "Lajeado Grande",
          "Major Vieira",
          "Princesa",
          "Agudo",
          "Alvorada",
          "Alvorada",
          "Antônio Prado",
          "Cachoeirinha",
          "Cachoeirinha",
          "Cachoeirinha",
          "Canoas",
          "Cristal do Sul",
          "Cruzaltense",
          "Panambi",
          "Porto Mauá",
          "São Francisco de Paula",
          "São Francisco de Paula",
          "São Luiz Gonzaga",
          "Sapucaia do Sul",
          "Sinimbu",
          "Tramandaí",
          "Três Passos",
          "Venâncio Aires",
          "Vila Flores",
          "Vista Alegre do Prata",
          "Costa Rica",
          "Ponta Porã",
          "Água Boa",
          "Água Boa",
          "Acreúna",
          "Anápolis",
          "Campo Alegre de Goiás",
          "Hidrolândia",
          "Hidrolândia",
          "Ipameri",
          "Palestina de Goiás",
          "Lago da Pedra",
          "Paraúna",
          "Piranhas",
          "Piranhas",
          "Pirenópolis",
          "Posse",
          "Vicentinópolis",
          "Parnaíba",
          "Tauá",
          "Cerro Corá",
          "Ipanguaçu",
          "Portalegre",
          "Santana do Seridó",
          "Areia",
          "Assunção",
          "Juazeirinho",
          "São Bento",
          "São Bento",
          "São Bentinho",
          "Gravatá",
          "Lagarto",
          "Aramari",
          "Barrocas",
          "Presidente Médici",
          "Presidente Médici",
          "Casa Nova",
          "Cipó",
          "Iaçu",
          "Jaguaquara",
          "Jeremoabo",
          "Morro do Chapéu",
          "Paratinga",
          "São Gonçalo dos Campos",
          "Senhor do Bonfim",
          "Teixeira de Freitas",
          "Vitória da Conquista",
          "Abaeté",
          "Araguari",
          "Bocaiúva",
          "Caetanópolis",
          "Camanducaia",
          "Carmo do Rio Claro",
          "Carmópolis de Minas",
          "Cataguases",
          "Contagem",
          "Coqueiral",
          "Crucilândia",
          "Felício dos Santos",
          "José Raydan",
          "Miraí",
          "Munhoz",
          "Papagaios",
          "Paraopeba",
          "Passabém",
          "Poço Fundo",
          "Santa Bárbara",
          "Santa Bárbara",
          "Santo Antônio do Rio Abaixo",
          "São Sebastião da Bela Vista",
          "Baixo Guandu",
          "Santa Teresa",
          "Resende",
          "São José do Vale do Rio Preto",
          "Boracéia",
          "Cerquilho",
          "Conchal",
          "Dumont",
          "Guararapes",
          "Iacanga",
          "Jacupiranga",
          "Juquitiba",
          "Lorena",
          "Santa Gertrudes",
          "Santo Antônio da Alegria",
          "Taguaí",
          "Tanabi",
          "Torrinha",
          "Vinhedo",
          "Amaporã",
          "Anahy",
          "Cambará",
          "Catanduvas",
          "Catanduvas",
          "Janiópolis",
          "Japira",
          "Mercedes",
          "Pato Branco",
          "Paula Freitas",
          "Quitandinha",
          "Salto do Lontra",
          "Santa Mariana",
          "São Pedro do Ivaí",
          "Serranópolis do Iguaçu",
          "Canelinha",
          "Capinzal",
          "Curitibanos",
          "Flor do Sertão",
          "Jaborá",
          "Luzerna",
          "Monte Carlo",
          "Palmitos",
          "Peritiba",
          "Rio do Campo",
          "Romelândia",
          "Sangão",
          "União do Oeste",
          "Balneário Rincão",
          "Ajuricaba",
          "Araricá",
          "Araguanã",
          "Araguanã",
          "Campo Bom",
          "Constantina",
          "Crissiumal",
          "Jaguarão",
          "Lagoa Vermelha",
          "Maquiné",
          "Muitos Capões",
          "Nova Prata",
          "Parobé",
          "Quaraí",
          "Rodeio Bonito",
          "Rolante",
          "Sant'Ana do Livramento",
          "Bandeirantes",
          "Bandeirantes",
          "Chapadão do Sul",
          "Deodápolis",
          "Paranaíba",
          "Juara",
          "Matupá",
          "Nova Mutum",
          "Nova Marilândia",
          "Buriti Alegre",
          "Caturaí",
          "Faina",
          "Mutunópolis",
          "Joselândia",
          "Novo Planalto",
          "Padre Bernardo",
          "Palminópolis",
          "Planaltina",
          "Santa Bárbara de Goiás",
          "Santo Antônio do Descoberto",
          "São Francisco de Goiás",
          "Senador Canedo",
          "Silvânia",
          "Trindade",
          "Trindade",
          "Padre Marcos",
          "Ribeiro Gonçalves",
          "São Francisco de Assis do Piauí",
          "São João da Varjota",
          "Senador Pompeu",
          "Açu",
          "Goianinha",
          "Rafael Fernandes",
          "São João do Rio do Peixe",
          "Areia de Baraúnas",
          "Catingueira",
          "Riacho de Santo Antônio",
          "Santana dos Garrotes",
          "São José do Brejo do Cruz",
          "Belo Jardim",
          "Catende",
          "Itapetim",
          "João Alfredo",
          "Limoeiro",
          "Sanharó",
          "Belterra",
          "Nossa Senhora da Glória",
          "Alagoinhas",
          "Canarana",
          "Canarana",
          "Catu",
          "Conceição do Coité",
          "Cordeiros",
          "Dom Basílio",
          "Guanambi",
          "Itaberaba",
          "Jaguaripe",
          "Lajedinho",
          "Madre de Deus",
          "Paripiranga",
          "Ribeira do Pombal",
          "Salinas da Margarida",
          "Marabá",
          "Sebastião Laranjeiras",
          "Valença",
          "Valença",
          "Arceburgo",
          "Barão de Cocais",
          "Barroso",
          "Botelhos",
          "Cambuí",
          "Carmo da Mata",
          "Conceição das Alagoas",
          "Coromandel",
          "Córrego Danta",
          "Diamantina",
          "Francisco Sá",
          "Frei Lagonegro",
          "Frutal",
          "Itaguara",
          "Lagoa Grande",
          "Lagoa Grande",
          "Lagoa Santa",
          "Lagoa Santa",
          "Medina",
          "Paraisópolis",
          "Piranguinho",
          "Pompéu",
          "Xinguara",
          "São Gonçalo do Rio Abaixo",
          "São João do Manhuaçu",
          "Amapá",
          "São Miguel do Anta",
          "São Sebastião da Vargem Alegre",
          "Taquaraçu de Minas",
          "Wenceslau Braz",
          "Wenceslau Braz",
          "Aracruz",
          "Colatina",
          "Iúna",
          "Nova Venécia",
          "Piraí",
          "Araras",
          "Cabreúva",
          "Caieiras",
          "Cajuru",
          "Campo Limpo Paulista",
          "Cravinhos",
          "Espírito Santo do Turvo",
          "Garça",
          "Holambra",
          "Itapecerica da Serra",
          "Itapevi",
          "Morungaba",
          "Osvaldo Cruz",
          "Palmital",
          "Palmital",
          "Pariquera-Açu",
          "Pedro de Toledo",
          "Penápolis",
          "Pompéia",
          "Porangaba",
          "Ribeirão Bonito",
          "Rosana",
          "Santos",
          "São Manuel",
          "Sarapuí",
          "Timburi",
          "Vargem Grande do Sul",
          "Chopinzinho",
          "Colombo",
          "Contenda",
          "Coronel Vivida",
          "Goioxim",
          "Paranã",
          "Ivaté",
          "Jandaia do Sul",
          "Mamborê",
          "Mandirituba",
          "Ourizona",
          "Porto Nacional",
          "Piên",
          "Porto Amazonas",
          "Rebouças",
          "Renascença",
          "Reserva",
          "Rondon",
          "Sabáudia",
          "Santa Isabel do Ivaí",
          "São Pedro do Iguaçu",
          "Teixeira Soares",
          "Tupãssi",
          "Doutor Ulysses",
          "Águas Frias",
          "Bombinhas",
          "Campos Novos",
          "Herval d'Oeste",
          "Ilhota",
          "Ipira",
          "Itaiópolis",
          "Orleans",
          "Palma Sola",
          "São João do Oeste",
          "Saudades",
          "Treze de Maio",
          "Vargem",
          "Vargem",
          "Arambaré",
          "Cacequi",
          "Campina das Missões",
          "Campo Novo",
          "Coronel Bicaco",
          "Cotiporã",
          "Ibiraiaras",
          "Ivorá",
          "Manoel Viana",
          "Progresso",
          "Rondinha",
          "Salvador do Sul",
          "Cândido Mendes",
          "São Sebastião do Caí",
          "Tuparendi",
          "Ubiretama",
          "Victor Graeff",
          "Naviraí",
          "Campo Novo do Parecis",
          "Guiratinga",
          "Nova Ubiratã",
          "Gonçalves Dias",
          "Sapezal",
          "Sinop",
          "Tapurah",
          "Água Fria de Goiás",
          "Águas Lindas de Goiás",
          "Aloândia",
          "Grajaú",
          "Itaberaí",
          "Itumbiara",
          "Jaraguá",
          "Ouro Verde de Goiás",
          "Paranaiguara",
          "Piracanjuba",
          "Quirinópolis",
          "São Miguel do Araguaia",
          "Mirador",
          "Mirador",
          "Santa Luzia do Paruá",
          "São Luís Gonzaga do Maranhão",
          "Serrano do Maranhão",
          "Turiaçu",
          "Barras",
          "Floriano",
          "Simões",
          "Tanque do Piauí",
          "União",
          "Aracoiaba",
          "Missão Velha",
          "Nova Russas",
          "Paraipaba",
          "Penaforte",
          "Tianguá",
          "Campo Redondo",
          "São José de Mipibu",
          "Bananeiras",
          "Coremas",
          "Damião",
          "Dona Inês",
          "Marizópolis",
          "Monteiro",
          "Picuí",
          "Tacima",
          "Teixeira",
          "Brejinho",
          "Brejinho",
          "Feira Nova",
          "Feira Nova",
          "Ipojuca",
          "Orobó",
          "Petrolina",
          "Moreilândia",
          "Cristinápolis",
          "Araci",
          "Brejolândia",
          "Camacan",
          "Cardeal da Silva",
          "Cumaru do Norte",
          "Crisópolis",
          "Entre Rios",
          "Entre Rios",
          "Guaratinga",
          "Ipiaú",
          "Itapitanga",
          "Jacobina",
          "Lapão",
          "Nova Viçosa",
          "Porto Seguro",
          "São Miguel das Matas",
          "Sento Sé",
          "Serrinha",
          "Serrinha",
          "Ubaíra",
          "Valente",
          "Canaã",
          "Capim Branco",
          "Chácara",
          "Claraval",
          "Conselheiro Lafaiete",
          "Coronel Fabriciano",
          "Cruzília",
          "Cuparaque",
          "Curvelo",
          "Delfinópolis",
          "Dores do Indaiá",
          "Fama",
          "Fronteira",
          "Goianá",
          "Governador Valadares",
          "Rurópolis",
          "Iguatama",
          "Ipiaçu",
          "Janaúba",
          "Japaraíba",
          "Santana do Araguaia",
          "Monte Alegre de Minas",
          "Morro do Pilar",
          "Muzambinho",
          "Nepomuceno",
          "Nova Porteirinha",
          "Novorizonte",
          "Patrocínio do Muriaé",
          "Paula Cândido",
          "Pedra Azul",
          "Pedra Bonita",
          "Pratinha",
          "Raul Soares",
          "Recreio",
          "Resende Costa",
          "Rio Acima",
          "Santa Luzia",
          "Santa Luzia",
          "Santa Luzia",
          "Santa Luzia",
          "Santana do Garambéu",
          "Santa Vitória",
          "São Domingos das Dores",
          "São Sebastião do Rio Preto",
          "Sarzedo",
          "Urucânia",
          "Barra de São Francisco",
          "Castelo",
          "Fundão",
          "Apiaí",
          "Arujá",
          "Bastos",
          "Bofete",
          "Francisco Morato",
          "Guarantã",
          "Herculândia",
          "Ibaté",
          "Itararé",
          "Itatiba",
          "Itatinga",
          "Matão",
          "Nazaré Paulista",
          "Patrocínio Paulista",
          "Pedreira",
          "Piquete",
          "Gurupi",
          "Porto Feliz",
          "Santa Rita do Passa Quatro",
          "São Joaquim da Barra",
          "Taboão da Serra",
          "Tremembé",
          "Ampére",
          "Bituruna",
          "Cafeara",
          "Califórnia"
         ],
         "lat": [
          -22.9129,
          -15.7795,
          -23.5329,
          -27.5945,
          -25.4195,
          -30.0318,
          -3.71664,
          -22.7421,
          -24.7246,
          -19.9102,
          -8.04666,
          -1.4554,
          -6.74261,
          -9.57047,
          -1.4554,
          -6.74261,
          -9.57047,
          -16.6864,
          -3.11866,
          -9.95542,
          -20.4486,
          -12.9718,
          -20.3155,
          -22.7037,
          -22.7338,
          -23.0816,
          -8.76077,
          -15.601,
          -16.7282,
          -5.79357,
          -29.1897,
          -23.1171,
          -26.4839,
          -10.24,
          -29.6875,
          -21.7595,
          -20.8113,
          -27.6455,
          -17.7923,
          -18.9141,
          -22.8832,
          -22.3246,
          -23.4205,
          -23.1852,
          -13.4391,
          -23.4153,
          -2.53874,
          -9.66599,
          -20.8932,
          -22.2171,
          -23.0104,
          -26.3045,
          -10.9091,
          -23.6914,
          -25.0916,
          -27.0474,
          -29.6868,
          -5.83802,
          -29.2227,
          -13.5304,
          -17.8552,
          -29.1629,
          -12.5307,
          -22.9053,
          -23.1896,
          -19.447,
          -26.095,
          -15.3118,
          2.82384,
          -7.26365,
          2.82384,
          -7.26365,
          -23.5057,
          -5.09194,
          -22.3768,
          -22.566,
          -23.304,
          -27.0241,
          -27.2156,
          -32.0349,
          -19.4569,
          -23.2544,
          -22.0174,
          -27.0798,
          -24.9573,
          -4.12967,
          0.034934,
          -19.7472,
          -7.11509,
          -23.7656,
          -23.6125,
          -23.0816,
          -21.252,
          -20.3196,
          -24.085,
          -20.3196,
          -24.085,
          -27.1004,
          -28.8399,
          -19.8534,
          -27.0977,
          -26.7639,
          -17.5654,
          -15.2483,
          -9.97499,
          -18.991,
          -22.8837,
          -22.72,
          -22.3984,
          -26.1766,
          -27.1586,
          -27.6364,
          -29.852,
          -21.2076,
          -25.2111,
          -27.2907,
          -26.7384,
          -26.2495,
          -28.645,
          -29.6824,
          -25.0437,
          -28.9272,
          -27.4087,
          -27.5905,
          -27.0287,
          -29.5995,
          -28.3001,
          -15.544,
          -17.1387,
          -10.4318,
          -11.781,
          -12.7502,
          -21.9753,
          -22.1166,
          -9.90571,
          -22.0082,
          -20.7656,
          -23.1996,
          -25.4077,
          -29.1662,
          -28.9677,
          -18.2173,
          -18.5699,
          -22.5202,
          -23.5235,
          -21.1314,
          -21.1699,
          -23.2766,
          -25.4429,
          -27.0375,
          -22.7811,
          -26.8495,
          -26.4561,
          -26.7242,
          -27.2354,
          -29.6684,
          -28.4548,
          -13.7441,
          -19.5902,
          -20.0734,
          -22.4225,
          -20.4111,
          -20.3603,
          -22.66,
          -21.3594,
          -22.6139,
          -24.1575,
          -20.787,
          -26.9548,
          -26.8451,
          -26.2579,
          -28.556,
          -11.3797,
          -20.048,
          -20.3417,
          -22.5481,
          -21.7845,
          -20.5352,
          -22.6027,
          -23.1981,
          -22.1207,
          -23.5226,
          -26.0817,
          -23.5446,
          -24.8585,
          -26.937,
          -2.24426,
          -6.7176,
          -24.8585,
          -26.937,
          -2.24426,
          -6.7176,
          -23.7683,
          -26.9926,
          -28.6338,
          -16.3695,
          -27.121,
          -30.033,
          -29.0261,
          -23.7315,
          -28.0652,
          -29.9291,
          -6.5713,
          -7.83272,
          -13.0215,
          -6.49659,
          -22.854,
          -19.6239,
          -19.9448,
          -22.2932,
          -22.8529,
          -12.5611,
          -23.2983,
          -21.2655,
          -23.2318,
          -24.5893,
          -24.0463,
          -10.175,
          -25.4697,
          -26.6539,
          -24.2485,
          -25.4257,
          -27.583,
          -25.8217,
          -27.4101,
          -27.1721,
          -27.815,
          -26.1056,
          -29.7902,
          -29.2969,
          -30.1086,
          -29.3741,
          -31.7649,
          -7.05829,
          -28.8306,
          -22.238,
          -15.545,
          -16.6125,
          -20.1446,
          -19.8126,
          -21.248,
          -18.5991,
          -19.5811,
          -21.3694,
          -24.42,
          -25.0919,
          -26.781,
          -28.0275,
          -28.388,
          -29.5448,
          -29.6505,
          -16.0764,
          -13.0588,
          -16.4398,
          -21.854,
          -21.305,
          -20.4762,
          -18.1896,
          -22.9527,
          -22.9951,
          -22.6029,
          -24.7971,
          -24.557,
          -23.6158,
          -25.7711,
          -26.654,
          -22.4909,
          -26.654,
          -22.4909,
          -28.7132,
          -29.3544,
          -29.4856,
          -29.5836,
          -29.3734,
          -28.6302,
          -28.2576,
          -6.04399,
          -12.9568,
          -29.7184,
          -22.2183,
          -29.8065,
          -20.7849,
          -17.7334,
          -3.23426,
          -11.4649,
          -26.5548,
          -6.80313,
          -10.7916,
          -13.621,
          -5.70143,
          -7.22196,
          -22.0695,
          -20.4437,
          -19.9312,
          -2.43849,
          -20.0237,
          -22.2266,
          -20.7411,
          -19.8622,
          -20.085,
          -23.7785,
          -22.4357,
          -22.4114,
          -23.4969,
          -23.3487,
          -23.1101,
          -23.55,
          -24.7891,
          -23.1829,
          -24.7042,
          -24.1835,
          -25.2193,
          -25.2977,
          -22.7111,
          -27.2335,
          -28.6723,
          -27.2743,
          -26.4688,
          -26.4851,
          -27.197,
          -6.19649,
          -27.0996,
          -27.6173,
          -29.7642,
          -27.6282,
          -30.1643,
          -19.1179,
          -15.2219,
          -18.2941,
          -16.9087,
          -16.8297,
          -16.8044,
          -6.34062,
          -6.85064,
          -11.3033,
          -21.957,
          -20.7343,
          -21.9671,
          -20.7193,
          -17.3392,
          -20.669,
          -23.0011,
          -22.8429,
          -7.55502,
          -22.7088,
          -23.9888,
          -23.4538,
          -23.0575,
          -22.1809,
          -24.2766,
          -20.8169,
          -25.5804,
          -25.0968,
          -25.6309,
          -22.8517,
          -24.3245,
          -28.9356,
          -20.5716,
          -26.6042,
          -26.9101,
          -2.74081,
          -27.1659,
          -26.4739,
          -27.0086,
          -31.396,
          -30.543,
          -27.3586,
          -29.9753,
          -27.8354,
          -5.38789,
          -9.74996,
          -29.4591,
          -31.4473,
          -28.3653,
          -29.3334,
          -29.0858,
          -17.5698,
          -10.8135,
          -16.4642,
          -15.1617,
          -13.187,
          -4.89764,
          -11.5266,
          -5.28186,
          -8.28455,
          -13.2506,
          -14.6654,
          -27.3297,
          -21.0342,
          -25.7211,
          -19.7386,
          -21.0148,
          -22.2707,
          -20.1912,
          -19.5476,
          -20.5339,
          -21.2493,
          -21.6778,
          -21.7579,
          -21.13,
          -21.78,
          -10.1943,
          -15.6218,
          -10.1943,
          -15.6218,
          -21.6921,
          -21.0127,
          -23.1067,
          -21.291,
          -23.0992,
          -23.038,
          -20.2806,
          -23.4112,
          -21.996,
          -21.8732,
          -20.2083,
          -23.9574,
          -6.21893,
          -20.4237,
          -25.6192,
          -22.8623,
          -25.3902,
          -22.7289,
          -23.182,
          -24.2058,
          -24.6271,
          -21.0132,
          -23.2281,
          -23.2959,
          -23.9833,
          -23.0571,
          -25.9311,
          -26.4597,
          -27.6327,
          -28.3208,
          -26.7729,
          -28.6511,
          -26.7398,
          -27.0653,
          -29.3919,
          -28.9312,
          -29.5693,
          -28.4498,
          -29.1607,
          -29.8268,
          -32.0151,
          -28.5359,
          -10.1723,
          -15.6759,
          -16.4673,
          -16.5778,
          -15.9333,
          -17.5258,
          -16.5211,
          -5.67252,
          -7.487,
          -7.98178,
          -9.64308,
          -14.8654,
          -14.0684,
          -15.6722,
          -4.2667,
          -20.1098,
          -20.2863,
          -20.0818,
          -22.447,
          -21.1286,
          -18.9379,
          -21.2712,
          -16.1753,
          -17.8595,
          -21.1204,
          -20.6931,
          -22.9354,
          -20.8929,
          -24.7324,
          -23.0731,
          -21.6637,
          -22.8075,
          -21.7562,
          -23.9788,
          -22.7665,
          -21.5103,
          -24.312,
          -21.1853,
          -25.5758,
          -25.4816,
          -25.7407,
          -25.4216,
          -26.139,
          -25.0067,
          -23.4843,
          -23.2824,
          -25.8214,
          -8.87576,
          -25.3492,
          -27.799,
          -26.9057,
          -27.0547,
          -26.2451,
          -30.9756,
          -5.49682,
          -28.9282,
          -29.3508,
          -31.1054,
          -29.8881,
          -29.722,
          -28.6578,
          -11.4343,
          -29.6349,
          -28.5079,
          -23.1058,
          -15.8955,
          -14.5238,
          -16.0651,
          -6.33563,
          -6.22475,
          -6.5237,
          -8.24153,
          -6.22475,
          -6.5237,
          -8.24153,
          -5.20182,
          -7.05377,
          -6.44572,
          -6.34185,
          -10.8777,
          -2.52936,
          -7.06658,
          -7.66206,
          -7.74084,
          -11.672,
          -14.5003,
          -15.2475,
          -14.5234,
          -21.9102,
          -21.3572,
          -19.8302,
          -20.9566,
          -20.6508,
          -19.4749,
          -20.2501,
          -20.1983,
          -17.7398,
          -18.7715,
          -15.9013,
          -20.2572,
          -20.6982,
          -21.3401,
          -20.5263,
          -6.6958,
          -9.15884,
          -22.2779,
          -19.9411,
          -21.0932,
          -6.74687,
          -21.5556,
          -5.98253,
          -9.36763,
          -20.7559,
          -20.2347,
          -7.19238,
          -21.682,
          -22.073,
          -20.5531,
          -23.1356,
          -24.0113,
          -23.6022,
          -23.6813,
          -22.3673,
          -20.7959,
          -23.6596,
          -23.5275,
          -22.7542,
          -22.8193,
          -11.196,
          -22.7813,
          -23.116,
          -25.2066,
          -25.3044,
          -25.1489,
          -24.9419,
          -22.0405,
          -23.3807,
          -24.0077,
          -25.5427,
          -23.4987,
          -11.0431,
          -15.8659,
          -23.6219,
          -25.9004,
          -10.5677,
          -25.6944,
          -25.6735,
          -26.1674,
          -25.1892,
          -24.5393,
          -27.496,
          -26.8576,
          -26.3709,
          -26.4441,
          -29.6447,
          -12.4785,
          -29.9914,
          -28.8565,
          -6.1156,
          -8.48668,
          -29.9472,
          -29.9128,
          -27.452,
          -27.6672,
          -28.2833,
          -27.5796,
          -29.4404,
          -20.7036,
          -28.412,
          -29.8276,
          -29.5357,
          -29.9841,
          -27.4555,
          -29.6143,
          -28.8598,
          -28.8052,
          -18.5432,
          -22.5296,
          -17.9914,
          -14.051,
          -17.396,
          -16.3281,
          -17.6363,
          -16.9626,
          -4.40958,
          -17.7215,
          -16.7392,
          -4.56974,
          -16.9463,
          -9.624,
          -16.4258,
          -15.8507,
          -14.0859,
          -17.7322,
          -2.90585,
          -5.98585,
          -6.03503,
          -5.48984,
          -6.02064,
          -6.76643,
          -6.96396,
          -7.07231,
          -7.06092,
          -6.48529,
          -2.69781,
          -6.88596,
          -8.21118,
          -10.9136,
          -12.0884,
          -11.5272,
          -11.169,
          -2.38991,
          -9.16408,
          -11.1032,
          -12.7666,
          -13.5248,
          -10.0685,
          -11.5488,
          -12.687,
          -12.4331,
          -10.4594,
          -17.5399,
          -14.8615,
          -19.1551,
          -18.6456,
          -17.1135,
          -19.2971,
          -22.7515,
          -20.9736,
          -20.5396,
          -21.3924,
          -19.9321,
          -21.1858,
          -20.3923,
          -18.0755,
          -18.2195,
          -21.2021,
          -22.6092,
          -19.4419,
          -19.2732,
          -19.3509,
          -21.78,
          -11.9515,
          -19.9604,
          -19.2374,
          -22.1583,
          -19.5213,
          -19.9363,
          -22.4705,
          -22.1525,
          -22.1926,
          -23.1665,
          -22.3375,
          -21.2324,
          -21.2544,
          -21.8896,
          -24.6963,
          -23.9244,
          -22.7334,
          -22.4572,
          -21.0864,
          -23.4452,
          -20.6228,
          -22.4237,
          -23.0302,
          -23.0943,
          -24.6449,
          -23.0423,
          -25.2044,
          -27.069,
          -24.1401,
          -23.8142,
          -24.4538,
          -26.2292,
          -26.2105,
          -25.8734,
          -25.7813,
          -23.1465,
          -23.8634,
          -25.3799,
          -27.2616,
          -27.3473,
          -27.2824,
          -26.7811,
          -27.1782,
          -27.1304,
          -27.2239,
          -27.0702,
          -27.3754,
          -26.9452,
          -26.6809,
          -28.6326,
          -26.762,
          -28.8314,
          -28.2342,
          -29.6168,
          -6.58225,
          -2.94644,
          -29.6747,
          -27.732,
          -27.4999,
          -32.5604,
          -28.2093,
          -29.6798,
          -28.3132,
          -28.7799,
          -29.6243,
          -30.384,
          -27.4742,
          -29.6462,
          -30.8773,
          -19.9275,
          -23.1078,
          -18.788,
          -22.2763,
          -19.6746,
          -11.2639,
          -10.1821,
          -13.8374,
          -14.3568,
          -18.1378,
          -16.4447,
          -15.4473,
          -13.7303,
          -4.98611,
          -13.2424,
          -15.1605,
          -16.7924,
          -15.452,
          -16.5714,
          -15.9412,
          -15.9256,
          -16.7084,
          -16.66,
          -16.6517,
          -7.759,
          -7.35101,
          -7.55651,
          -8.23599,
          -6.94082,
          -5.58244,
          -5.58362,
          -6.26486,
          -6.18987,
          -6.72195,
          -7.11702,
          -7.12008,
          -7.68023,
          -7.38162,
          -6.21054,
          -8.3313,
          -8.67509,
          -7.37178,
          -7.86565,
          -7.8726,
          -8.36097,
          -2.63609,
          -10.2158,
          -12.1335,
          -11.6858,
          -13.5515,
          -12.3513,
          -11.56,
          -15.0356,
          -13.7565,
          -14.2231,
          -12.5242,
          -13.1109,
          -12.3529,
          -12.7446,
          -10.6859,
          -10.8373,
          -12.873,
          -5.38075,
          -14.571,
          -13.3669,
          -22.2445,
          -21.359,
          -19.9389,
          -21.1907,
          -21.6412,
          -22.6115,
          -20.5575,
          -19.9172,
          -18.4734,
          -19.8198,
          -18.2413,
          -16.4827,
          -18.1751,
          -20.0259,
          -20.3947,
          -17.8323,
          -8.99452,
          -19.1832,
          -19.6397,
          -16.2245,
          -22.5539,
          -22.395,
          -19.2257,
          -7.0983,
          -19.8221,
          -20.3933,
          2.05267,
          -20.7067,
          -19.7477,
          -19.6652,
          -22.5368,
          -23.8742,
          -19.82,
          -19.5493,
          -20.3531,
          -18.715,
          -22.6215,
          -22.3572,
          -23.3053,
          -23.3607,
          -21.2749,
          -23.2078,
          -21.338,
          -22.6925,
          -22.2125,
          -22.6405,
          -23.7161,
          -23.5488,
          -22.8811,
          -21.7968,
          -22.7858,
          -24.8853,
          -24.7147,
          -24.2764,
          -21.4148,
          -22.107,
          -23.1761,
          -22.0685,
          -22.5782,
          -23.9535,
          -22.7321,
          -23.6397,
          -23.2057,
          -21.8322,
          -25.8515,
          -25.2925,
          -25.6788,
          -25.9767,
          -25.1927,
          -12.6167,
          -23.4072,
          -23.6011,
          -24.317,
          -25.777,
          -23.4053,
          -10.7027,
          -26.0965,
          -25.54,
          -25.6232,
          -26.1588,
          -24.6492,
          -23.412,
          -23.3155,
          -23.0025,
          -24.9373,
          -25.3701,
          -24.5879,
          -24.5665,
          -26.8794,
          -27.1382,
          -27.4002,
          -27.1903,
          -26.9023,
          -27.4038,
          -26.339,
          -28.3487,
          -26.3471,
          -27.0984,
          -26.9317,
          -28.5537,
          -27.4867,
          -22.887,
          -30.9092,
          -29.8883,
          -27.9888,
          -27.6792,
          -27.7197,
          -28.9891,
          -28.3741,
          -29.5232,
          -29.5859,
          -29.2441,
          -27.8315,
          -29.4386,
          -1.43265,
          -29.5885,
          -27.7598,
          -28.0404,
          -28.5632,
          -23.0618,
          -13.6587,
          -16.346,
          -12.9834,
          -5.1475,
          -12.9892,
          -11.8604,
          -12.695,
          -14.9778,
          -15.7617,
          -17.7292,
          -5.81367,
          -16.0206,
          -18.4093,
          -15.7529,
          -16.2181,
          -18.9141,
          -17.302,
          -18.4472,
          -13.2731,
          -6.37454,
          -23.255,
          -2.51123,
          -4.38541,
          -1.85229,
          -1.65893,
          -4.24468,
          -6.77182,
          -7.59109,
          -6.59787,
          -4.58571,
          -4.36872,
          -7.23522,
          -4.70581,
          -3.43799,
          -7.82163,
          -3.72965,
          -6.23829,
          -6.0773,
          -6.74775,
          -7.00712,
          -6.63161,
          -6.61566,
          -6.82748,
          -7.88363,
          -6.50845,
          -6.48759,
          -7.22104,
          -6.18566,
          -7.34694,
          -7.94704,
          -10.2616,
          -8.39303,
          -7.74553,
          -9.38866,
          -7.61931,
          -11.4668,
          -11.3253,
          -12.4815,
          -15.4142,
          -11.9472,
          -7.81097,
          -11.5059,
          -11.9392,
          -26.7225,
          -16.5833,
          -14.1226,
          -14.4139,
          -11.1812,
          -11.3851,
          -17.8926,
          -16.4435,
          -13.0434,
          -9.74138,
          -6.28181,
          -11.6584,
          -13.2714,
          -11.4062,
          -20.6869,
          -19.5471,
          -21.6733,
          -20.397,
          -20.6634,
          -19.5179,
          -21.84,
          -18.9648,
          -18.7527,
          -20.3468,
          -19.4628,
          -21.4089,
          -20.2748,
          -21.536,
          -18.8545,
          -4.10028,
          -20.1776,
          -18.6927,
          -15.8022,
          -20.1442,
          -9.3281,
          -18.869,
          -19.2236,
          -21.3692,
          -21.2324,
          -15.7993,
          -16.0162,
          -21.1544,
          -20.8754,
          -16.0086,
          -20.5219,
          -19.739,
          -20.1061,
          -21.5289,
          -20.9171,
          -20.0876,
          -4.06873,
          -15.4342,
          -19.7548,
          -6.86092,
          -21.5983,
          -18.8414,
          -19.5246,
          -19.2959,
          -20.0367,
          -20.3521,
          -18.7548,
          -20.6033,
          -19.937,
          -24.5108,
          -23.3965,
          -21.921,
          -23.1055,
          -23.2792,
          -21.8942,
          -22.0038,
          -21.9584,
          -24.1085,
          -23.0035,
          -23.1047,
          -21.6025,
          -23.1747,
          -20.6384,
          -22.7413,
          -22.6069,
          -11.7279,
          -23.2093,
          -21.7083,
          -20.5812,
          -23.6019,
          -22.9571,
          -25.9168,
          -26.1607,
          -22.789,
          -23.6566
         ],
         "legendgroup": "",
         "lon": [
          -43.2003,
          -47.9297,
          -46.6395,
          -48.5477,
          -49.2646,
          -51.2065,
          -38.5423,
          -46.3728,
          -53.7412,
          -43.9266,
          -34.8771,
          -48.4898,
          -35.5166,
          -36.4904,
          -48.4898,
          -35.5166,
          -36.4904,
          -49.2643,
          -60.0212,
          -36.7926,
          -54.6295,
          -38.5011,
          -40.3128,
          -46.9851,
          -47.6476,
          -52.4617,
          -63.8999,
          -56.0974,
          -43.8578,
          -35.1986,
          -54.8666,
          -46.5563,
          -51.9888,
          -48.3558,
          -51.1328,
          -43.3398,
          -49.3758,
          -48.6697,
          -50.9192,
          -48.2749,
          -43.1034,
          -49.0871,
          -51.9333,
          -46.8974,
          -49.1503,
          -51.4259,
          -44.2825,
          -35.735,
          -45.2699,
          -49.9501,
          -45.5593,
          -48.8487,
          -37.0677,
          -46.5646,
          -50.1668,
          -49.6246,
          -53.8149,
          -35.6914,
          -51.3419,
          -48.2206,
          -42.8561,
          -51.1792,
          -38.3009,
          -47.0659,
          -45.8841,
          -54.9859,
          -49.7982,
          -49.1162,
          -60.6753,
          -36.2357,
          -60.6753,
          -36.2357,
          -46.879,
          -42.8034,
          -41.7848,
          -47.397,
          -51.1691,
          -48.6503,
          -49.643,
          -52.1071,
          -44.2413,
          -47.2927,
          -47.886,
          -53.0037,
          -53.459,
          -38.2412,
          -51.0694,
          -47.9381,
          -34.8641,
          -53.3201,
          -45.4125,
          -47.2101,
          -48.3252,
          -48.312,
          -54.2573,
          -48.312,
          -54.2573,
          -52.6152,
          -51.8895,
          -44.6114,
          -48.9107,
          -48.6717,
          -52.5537,
          -58.1259,
          -67.8243,
          -46.3167,
          -48.4437,
          -44.1419,
          -47.5546,
          -50.395,
          -48.5469,
          -52.2697,
          -51.1841,
          -50.4401,
          -50.9754,
          -52.3212,
          -49.1785,
          -49.3831,
          -53.6048,
          -51.4679,
          -51.5282,
          -49.6831,
          -49.822,
          -49.5539,
          -51.9012,
          -51.1533,
          -54.2668,
          -54.2811,
          -49.9862,
          -62.4788,
          -38.355,
          -60.1488,
          -44.9319,
          -45.0506,
          -63.0325,
          -51.5565,
          -43.1895,
          -47.2931,
          -52.4109,
          -51.5165,
          -51.0696,
          -49.74,
          -46.5013,
          -44.0996,
          -46.8407,
          -48.977,
          -47.8099,
          -51.2798,
          -49.1927,
          -49.3885,
          -46.5897,
          -52.9913,
          -53.4955,
          -53.5163,
          -48.6322,
          -52.7895,
          -52.8182,
          -39.4747,
          -46.9438,
          -43.4061,
          -45.4598,
          -42.8978,
          -40.6594,
          -50.4183,
          -48.2316,
          -46.7033,
          -54.0988,
          -48.3314,
          -49.3783,
          -52.2596,
          -48.6344,
          -54.5559,
          -40.0089,
          -44.2749,
          -40.2875,
          -44.1752,
          -48.178,
          -47.4039,
          -48.8037,
          -49.3803,
          -51.3925,
          -47.1357,
          -53.0535,
          -51.671,
          -54.336,
          -53.6214,
          -45.29,
          -38.6427,
          -54.336,
          -53.6214,
          -45.29,
          -38.6427,
          -52.447,
          -48.6352,
          -49.5055,
          -49.3168,
          -49.9942,
          -52.8928,
          -51.1875,
          -52.8735,
          -52.0097,
          -51.7075,
          -38.5986,
          -38.0978,
          -39.602,
          -49.8776,
          -46.3178,
          -43.2312,
          -44.3451,
          -42.5377,
          -47.2143,
          -60.8877,
          -45.9658,
          -48.4971,
          -51.6668,
          -52.7976,
          -52.378,
          -48.8823,
          -50.6493,
          -52.8955,
          -51.6754,
          -50.007,
          -50.1577,
          -53.4801,
          -49.5963,
          -51.5108,
          -50.3259,
          -50.3197,
          -55.7949,
          -51.5028,
          -51.3233,
          -51.1136,
          -52.3371,
          -36.3668,
          -52.5131,
          -53.3437,
          -55.1626,
          -50.1369,
          -44.8912,
          -43.1735,
          -45.0009,
          -43.3744,
          -42.6471,
          -45.5109,
          -53.8286,
          -54.2477,
          -49.3593,
          -48.6192,
          -53.92,
          -51.4821,
          -50.7753,
          -57.6818,
          -55.9042,
          -51.118,
          -45.2896,
          -46.7081,
          -45.9589,
          -42.4139,
          -46.5419,
          -47.5071,
          -46.9192,
          -53.3006,
          -54.0571,
          -53.2053,
          -53.526,
          -53.44,
          -48.5583,
          -53.44,
          -48.5583,
          -49.3087,
          -51.6687,
          -51.3548,
          -51.0898,
          -50.8762,
          -53.0961,
          -52.4091,
          -35.428,
          -38.6153,
          -52.5152,
          -49.8207,
          -50.0519,
          -51.7007,
          -49.1059,
          -40.1233,
          -39.5268,
          -52.5313,
          -37.9488,
          -37.5685,
          -46.7415,
          -35.3048,
          -35.8731,
          -46.5724,
          -44.7673,
          -47.5492,
          -54.6996,
          -45.5401,
          -45.9389,
          -46.8624,
          -47.4508,
          -45.2947,
          -45.3552,
          -46.8224,
          -50.5732,
          -47.4451,
          -47.8461,
          -47.7164,
          -51.4635,
          -50.0108,
          -50.6498,
          -54.2385,
          -53.0248,
          -49.3454,
          -54.0943,
          -52.6188,
          -52.026,
          -49.3729,
          -51.443,
          -49.0026,
          -49.0713,
          -50.0786,
          -35.7989,
          -51.2473,
          -53.7405,
          -50.0282,
          -54.3053,
          -53.5603,
          -51.7313,
          -59.3435,
          -51.1516,
          -49.4476,
          -49.5345,
          -49.924,
          -37.747,
          -35.485,
          -41.8535,
          -44.8874,
          -42.0313,
          -45.3498,
          -46.609,
          -44.934,
          -41.0179,
          -44.3196,
          -42.1026,
          -37.0628,
          -46.772,
          -46.258,
          -46.5333,
          -49.6279,
          -47.3841,
          -47.4625,
          -49.5206,
          -49.6291,
          -52.8755,
          -53.3469,
          -51.0293,
          -50.6176,
          -49.4918,
          -43.0094,
          -53.5243,
          -48.6705,
          -58.0293,
          -53.7166,
          -52.9687,
          -51.1543,
          -52.6783,
          -52.5204,
          -53.3958,
          -50.1281,
          -54.1886,
          -40.3085,
          -48.3565,
          -51.9644,
          -53.0973,
          -53.251,
          -49.7333,
          -53.8445,
          -54.7551,
          -55.461,
          -49.9617,
          -49.8048,
          -60.8168,
          -40.7537,
          -61.0252,
          -36.75,
          -35.9699,
          -43.4108,
          -40.4718,
          -53.0575,
          -49.933,
          -53.7642,
          -45.2622,
          -46.5174,
          -46.1653,
          -44.7664,
          -42.1147,
          -43.9894,
          -46.5735,
          -45.9219,
          -45.5391,
          -42.3693,
          -46.5692,
          -63.8324,
          -46.4221,
          -63.8324,
          -46.4221,
          -45.2511,
          -42.8361,
          -48.9251,
          -50.3432,
          -45.7076,
          -49.1655,
          -50.2471,
          -46.0369,
          -47.4257,
          -51.8447,
          -50.932,
          -46.3883,
          -36.6827,
          -49.9781,
          -53.1285,
          -51.3882,
          -51.4623,
          -52.8874,
          -52.2031,
          -50.9185,
          -54.2265,
          -48.221,
          -51.5873,
          -50.0815,
          -51.8215,
          -51.0399,
          -49.195,
          -48.6123,
          -51.335,
          -49.0427,
          -53.04,
          -49.2169,
          -49.2718,
          -53.3265,
          -51.3123,
          -54.5558,
          -50.7919,
          -52.1986,
          -51.6333,
          -50.5175,
          -52.0331,
          -52.1486,
          -59.4568,
          -58.0951,
          -54.6372,
          -50.304,
          -50.14,
          -52.065,
          -50.3726,
          -39.1875,
          -36.1309,
          -38.289,
          -36.2125,
          -40.5791,
          -42.4861,
          -38.9536,
          -55.9926,
          -43.0535,
          -45.5373,
          -44.5801,
          -45.1645,
          -46.4157,
          -46.9934,
          -43.1696,
          -42.2964,
          -41.5087,
          -42.9359,
          -41.8405,
          -42.8246,
          -47.5921,
          -48.1223,
          -44.9576,
          -46.7361,
          -45.1938,
          -48.8319,
          -48.8764,
          -46.2241,
          -51.4342,
          -47.0012,
          -48.9086,
          -52.0409,
          -53.6112,
          -53.057,
          -52.8348,
          -52.3848,
          -50.857,
          -51.7928,
          -52.6054,
          -52.7252,
          -36.3653,
          -54.2405,
          -49.487,
          -52.7011,
          -49.5193,
          -51.0759,
          -54.6694,
          -45.2485,
          -52.1258,
          -51.7748,
          -50.9167,
          -50.2667,
          -52.4343,
          -56.0036,
          -61.4562,
          -51.0064,
          -50.9418,
          -55.2253,
          -52.2372,
          -49.1396,
          -47.9757,
          -35.3052,
          -36.0193,
          -38.0617,
          -40.3434,
          -36.0193,
          -38.0617,
          -40.3434,
          -35.4621,
          -35.7591,
          -38.5521,
          -37.4943,
          -61.9322,
          -57.7538,
          -36.0668,
          -36.884,
          -35.7206,
          -61.198,
          -42.2229,
          -40.2482,
          -40.3634,
          -44.2555,
          -46.1421,
          -43.0922,
          -43.811,
          -41.9119,
          -46.5474,
          -43.8038,
          -44.4211,
          -46.1715,
          -46.4012,
          -44.306,
          -42.028,
          -44.829,
          -43.4499,
          -43.6962,
          -36.9428,
          -37.3556,
          -46.3716,
          -45.078,
          -45.0896,
          -51.1626,
          -45.4364,
          -37.9462,
          -36.2431,
          -42.8742,
          -41.5087,
          -48.2044,
          -51.0737,
          -48.7438,
          -48.5698,
          -46.4675,
          -48.3482,
          -46.919,
          -46.6205,
          -48.3819,
          -49.2172,
          -47.223,
          -46.9023,
          -47.1488,
          -46.6937,
          -61.5174,
          -51.2297,
          -50.1842,
          -49.1141,
          -49.0551,
          -53.8415,
          -54.1052,
          -54.6158,
          -53.2918,
          -51.3227,
          -54.5827,
          -49.909,
          -41.9702,
          -50.8668,
          -52.4693,
          -53.2618,
          -37.7242,
          -51.6536,
          -48.5111,
          -51.231,
          -49.3115,
          -52.9865,
          -48.6598,
          -52.5648,
          -50.3266,
          -53.5994,
          -53.2515,
          -49.1249,
          -51.0809,
          -51.2883,
          -47.9234,
          -36.2402,
          -51.1016,
          -51.1857,
          -53.2422,
          -52.6522,
          -53.5023,
          -54.6657,
          -50.5828,
          -44.9838,
          -54.9559,
          -51.145,
          -52.5304,
          -50.1322,
          -53.9296,
          -52.1932,
          -51.5504,
          -51.7947,
          -53.1287,
          -55.7203,
          -42.3806,
          -52.1601,
          -50.3749,
          -48.953,
          -47.7768,
          -49.2265,
          -40.4056,
          -48.1581,
          -51.5309,
          -45.1319,
          -50.4484,
          -37.757,
          -51.8235,
          -48.9584,
          -46.3704,
          -49.8047,
          -41.7754,
          -40.2968,
          -36.3503,
          -36.8501,
          -37.9865,
          -36.7312,
          -35.6977,
          -36.725,
          -36.5793,
          -37.4488,
          -44.8289,
          -37.7243,
          -35.5675,
          -37.6689,
          -38.4969,
          -39.0776,
          -61.8986,
          -45.82,
          -40.974,
          -38.5179,
          -40.2056,
          -39.964,
          -38.3471,
          -41.1565,
          -43.1798,
          -38.9663,
          -40.1865,
          -39.74,
          -40.8442,
          -45.4444,
          -48.1934,
          -43.8104,
          -44.4189,
          -46.1494,
          -46.1149,
          -44.6336,
          -42.6896,
          -44.0539,
          -45.4366,
          -44.3334,
          -43.2422,
          -42.4946,
          -42.6122,
          -46.362,
          -44.7468,
          -44.4044,
          -43.1383,
          -45.9658,
          -38.9681,
          -43.4101,
          -43.2604,
          -45.7546,
          -41.0109,
          -40.5979,
          -44.4509,
          -42.9327,
          -48.7808,
          -47.7459,
          -47.1729,
          -47.9756,
          -50.6453,
          -49.031,
          -48.0064,
          -47.0653,
          -45.1197,
          -47.5272,
          -47.1464,
          -49.4024,
          -49.6563,
          -48.1731,
          -46.9833,
          -52.7866,
          -53.1332,
          -50.0753,
          -53.1548,
          -51.6602,
          -52.7784,
          -50.1422,
          -54.1618,
          -52.6706,
          -50.931,
          -49.4973,
          -53.3135,
          -50.5167,
          -51.8568,
          -54.0518,
          -48.7658,
          -51.6057,
          -50.5816,
          -53.3505,
          -51.7279,
          -51.4682,
          -50.9808,
          -53.1586,
          -51.9018,
          -50.136,
          -53.3172,
          -49.1322,
          -52.8541,
          -49.2352,
          -53.7757,
          -50.9291,
          -48.6395,
          -45.6589,
          -51.0606,
          -52.9938,
          -54.0994,
          -53.377,
          -51.5248,
          -50.2079,
          -51.1836,
          -51.6113,
          -50.8312,
          -56.4483,
          -53.1706,
          -50.5819,
          -55.5392,
          -54.3585,
          -50.3704,
          -52.6263,
          -54.1682,
          -51.1909,
          -57.5244,
          -54.9467,
          -56.0743,
          -56.9696,
          -49.0404,
          -49.4936,
          -50.3622,
          -49.2745,
          -44.6958,
          -49.506,
          -48.2833,
          -50.1652,
          -47.6089,
          -49.6954,
          -48.2578,
          -49.2605,
          -49.0914,
          -48.6083,
          -49.4927,
          -40.2647,
          -40.8997,
          -45.2447,
          -41.6873,
          -41.8889,
          -39.3704,
          -36.914,
          -35.1943,
          -38.2211,
          -38.4468,
          -36.9404,
          -37.6064,
          -36.157,
          -37.9819,
          -37.3601,
          -36.4258,
          -35.7024,
          -37.1863,
          -35.5787,
          -35.4402,
          -36.5696,
          -54.9374,
          -37.4211,
          -38.4208,
          -41.7677,
          -52.2705,
          -38.3791,
          -39.2808,
          -41.9308,
          -41.7677,
          -42.7799,
          -40.3059,
          -38.8939,
          -40.9048,
          -38.6153,
          -37.8626,
          -38.5382,
          -38.7562,
          -49.1327,
          -42.9434,
          -39.073,
          -43.7129,
          -46.9401,
          -43.4755,
          -43.972,
          -46.391,
          -46.0572,
          -44.8735,
          -48.3839,
          -47.1933,
          -45.9032,
          -43.6031,
          -43.4896,
          -42.7617,
          -48.9355,
          -44.4875,
          -46.5165,
          -40.2767,
          -51.3998,
          -43.8932,
          -41.4728,
          -45.7803,
          -45.5324,
          -45.0141,
          -49.9437,
          -43.366,
          -42.1533,
          -50.7957,
          -42.7174,
          -43.3679,
          -43.6922,
          -45.3626,
          -49.8032,
          -40.2764,
          -40.6269,
          -41.5334,
          -40.4053,
          -43.9081,
          -47.3842,
          -47.1362,
          -46.7397,
          -47.303,
          -46.7889,
          -47.7324,
          -49.4341,
          -49.6546,
          -47.0487,
          -46.8572,
          -46.9327,
          -46.7896,
          -50.8793,
          -50.218,
          -52.2029,
          -47.8742,
          -47.2354,
          -50.0769,
          -50.176,
          -48.1195,
          -48.182,
          -53.0603,
          -46.335,
          -48.5723,
          -47.8249,
          -49.6096,
          -46.8913,
          -52.5173,
          -49.2262,
          -49.535,
          -52.5641,
          -51.9911,
          -47.8734,
          -53.3687,
          -51.6448,
          -52.5271,
          -49.3282,
          -52.1964,
          -48.408,
          -49.4336,
          -49.8946,
          -50.6877,
          -52.9703,
          -50.8466,
          -52.7659,
          -51.555,
          -53.1989,
          -53.8521,
          -50.4571,
          -53.5105,
          -49.4219,
          -52.8568,
          -48.5146,
          -51.2276,
          -51.4917,
          -48.8251,
          -51.7758,
          -49.9092,
          -49.2986,
          -53.2771,
          -53.5977,
          -53.0021,
          -49.1565,
          -50.9724,
          -46.4124,
          -51.5046,
          -54.822,
          -54.8416,
          -53.8052,
          -53.7022,
          -51.6971,
          -51.6377,
          -53.5842,
          -55.4841,
          -52.3197,
          -52.9081,
          -51.5077,
          -45.7161,
          -51.3749,
          -54.4814,
          -54.686,
          -52.7495,
          -54.1995,
          -57.8907,
          -53.7575,
          -55.2556,
          -44.3013,
          -58.7645,
          -55.5091,
          -56.5178,
          -47.7823,
          -48.2816,
          -49.4769,
          -46.1462,
          -49.806,
          -49.2158,
          -49.3344,
          -49.1942,
          -50.6539,
          -49.017,
          -50.4547,
          -50.1634,
          -44.3683,
          -52.7761,
          -45.7801,
          -44.6654,
          -45.1207,
          -45.3798,
          -42.2922,
          -43.0241,
          -40.8137,
          -42.2795,
          -42.8583,
          -38.8125,
          -39.143,
          -40.5621,
          -39.1479,
          -39.0707,
          -40.9923,
          -36.1888,
          -35.2417,
          -35.6246,
          -37.9346,
          -35.9101,
          -35.6205,
          -38.3528,
          -37.1184,
          -36.3497,
          -35.6367,
          -37.2525,
          -35.3591,
          -37.2865,
          -35.3801,
          -37.3147,
          -35.0609,
          -35.5956,
          -40.5027,
          -39.546,
          -37.7585,
          -38.9584,
          -43.9679,
          -39.4919,
          -37.9469,
          -50.7698,
          -38.1515,
          -38.0871,
          -52.5585,
          -39.7847,
          -39.7353,
          -39.5657,
          -40.5117,
          -41.8286,
          -39.3743,
          -39.0643,
          -39.4578,
          -41.8786,
          -35.5,
          -39.01,
          -39.666,
          -39.457,
          -42.6167,
          -44.1304,
          -43.215,
          -47.2768,
          -43.7846,
          -42.6276,
          -44.8067,
          -41.0986,
          -44.4303,
          -46.8456,
          -45.5927,
          -45.8286,
          -49.1984,
          -43.1957,
          -41.9555,
          -54.9092,
          -45.7111,
          -49.9436,
          -43.3132,
          -45.5015,
          -50.35,
          -48.881,
          -43.3795,
          -46.5213,
          -45.235,
          -43.2941,
          -42.4044,
          -42.2125,
          -42.9752,
          -41.2909,
          -42.3304,
          -46.3755,
          -42.4502,
          -42.4676,
          -44.2407,
          -43.7878,
          -45.69,
          -39.3287,
          -43.8497,
          -36.9178,
          -44.105,
          -50.1208,
          -42.0106,
          -43.1757,
          -44.1446,
          -42.737,
          -40.8965,
          -41.2031,
          -40.4078,
          -48.8443,
          -46.32,
          -50.7357,
          -48.2582,
          -46.7448,
          -49.5914,
          -50.3907,
          -47.9882,
          -49.3352,
          -46.8464,
          -48.6157,
          -48.364,
          -46.3983,
          -47.2801,
          -46.8948,
          -45.1869,
          -49.068,
          -47.5251,
          -47.478,
          -47.8593,
          -46.7526,
          -45.5475,
          -53.4686,
          -51.5518,
          -51.7142,
          -51.3574
         ],
         "marker": {
          "color": "fuchsia",
          "size": [
           396,
           335,
           330,
           211,
           193,
           184,
           181,
           162,
           162,
           156,
           129,
           118,
           118,
           118,
           12,
           12,
           12,
           101,
           91,
           90,
           90,
           87,
           85,
           85,
           84,
           79,
           78,
           74,
           69,
           59,
           58,
           54,
           54,
           54,
           53,
           49,
           45,
           45,
           45,
           44,
           44,
           44,
           44,
           41,
           41,
           40,
           39,
           38,
           38,
           38,
           38,
           38,
           37,
           37,
           37,
           36,
           35,
           35,
           34,
           34,
           33,
           33,
           31,
           31,
           31,
           31,
           31,
           31,
           30,
           30,
           6,
           6,
           30,
           30,
           29,
           29,
           29,
           29,
           29,
           29,
           28,
           28,
           27,
           27,
           27,
           27,
           26,
           26,
           25,
           25,
           24,
           24,
           24,
           24,
           24,
           11,
           11,
           24,
           24,
           23,
           23,
           23,
           23,
           23,
           23,
           22,
           22,
           22,
           22,
           22,
           22,
           22,
           22,
           21,
           21,
           21,
           21,
           21,
           21,
           21,
           20,
           20,
           20,
           20,
           20,
           20,
           20,
           20,
           20,
           19,
           19,
           19,
           19,
           19,
           19,
           19,
           19,
           19,
           19,
           19,
           19,
           19,
           18,
           18,
           18,
           18,
           18,
           18,
           18,
           18,
           18,
           18,
           18,
           18,
           18,
           18,
           18,
           17,
           17,
           17,
           17,
           17,
           17,
           17,
           17,
           17,
           17,
           17,
           17,
           17,
           17,
           17,
           16,
           16,
           16,
           16,
           16,
           16,
           16,
           16,
           16,
           16,
           16,
           16,
           16,
           16,
           16,
           16,
           14,
           14,
           14,
           14,
           16,
           16,
           16,
           16,
           16,
           16,
           16,
           16,
           16,
           16,
           16,
           16,
           15,
           15,
           15,
           15,
           15,
           15,
           15,
           15,
           15,
           15,
           15,
           15,
           15,
           15,
           15,
           15,
           15,
           15,
           15,
           15,
           15,
           15,
           15,
           15,
           15,
           15,
           15,
           15,
           15,
           15,
           15,
           15,
           15,
           15,
           14,
           14,
           14,
           14,
           14,
           14,
           14,
           14,
           14,
           14,
           14,
           14,
           14,
           14,
           14,
           14,
           13,
           13,
           13,
           13,
           13,
           13,
           13,
           13,
           13,
           13,
           13,
           13,
           13,
           10,
           10,
           13,
           13,
           13,
           13,
           13,
           13,
           13,
           13,
           13,
           13,
           13,
           13,
           13,
           13,
           13,
           13,
           13,
           13,
           13,
           13,
           12,
           12,
           12,
           12,
           12,
           12,
           12,
           12,
           12,
           12,
           12,
           12,
           12,
           12,
           12,
           12,
           12,
           12,
           12,
           12,
           12,
           12,
           12,
           12,
           12,
           12,
           12,
           12,
           12,
           12,
           12,
           12,
           12,
           12,
           12,
           12,
           12,
           12,
           12,
           12,
           12,
           12,
           12,
           11,
           11,
           11,
           11,
           11,
           11,
           11,
           11,
           11,
           11,
           11,
           11,
           11,
           11,
           11,
           11,
           11,
           11,
           11,
           11,
           11,
           11,
           11,
           11,
           11,
           11,
           11,
           11,
           11,
           11,
           11,
           11,
           11,
           11,
           11,
           11,
           11,
           11,
           11,
           11,
           11,
           11,
           11,
           11,
           11,
           11,
           11,
           11,
           11,
           11,
           11,
           10,
           10,
           10,
           10,
           10,
           10,
           10,
           10,
           10,
           10,
           10,
           10,
           10,
           10,
           10,
           10,
           10,
           10,
           10,
           10,
           5,
           5,
           10,
           10,
           10,
           10,
           10,
           10,
           10,
           10,
           10,
           10,
           10,
           10,
           10,
           10,
           10,
           10,
           10,
           10,
           10,
           10,
           10,
           10,
           10,
           10,
           10,
           10,
           10,
           10,
           10,
           10,
           10,
           10,
           10,
           10,
           10,
           10,
           10,
           10,
           10,
           10,
           10,
           10,
           10,
           10,
           10,
           10,
           10,
           10,
           10,
           9,
           9,
           9,
           9,
           9,
           9,
           9,
           9,
           9,
           9,
           9,
           9,
           9,
           9,
           9,
           9,
           9,
           9,
           9,
           9,
           9,
           9,
           9,
           9,
           9,
           9,
           9,
           9,
           9,
           9,
           9,
           9,
           9,
           9,
           9,
           9,
           9,
           9,
           9,
           9,
           9,
           9,
           9,
           9,
           9,
           9,
           9,
           9,
           9,
           9,
           9,
           9,
           9,
           9,
           9,
           9,
           9,
           9,
           9,
           9,
           9,
           8,
           8,
           8,
           8,
           6,
           6,
           6,
           8,
           8,
           8,
           8,
           8,
           8,
           8,
           8,
           8,
           8,
           8,
           8,
           8,
           8,
           8,
           8,
           8,
           8,
           8,
           8,
           8,
           8,
           8,
           8,
           8,
           8,
           8,
           8,
           8,
           8,
           8,
           8,
           8,
           8,
           8,
           8,
           8,
           8,
           8,
           8,
           8,
           8,
           8,
           8,
           8,
           8,
           8,
           8,
           8,
           8,
           8,
           8,
           8,
           8,
           8,
           8,
           8,
           8,
           8,
           8,
           8,
           8,
           8,
           8,
           8,
           8,
           8,
           8,
           8,
           8,
           8,
           8,
           8,
           8,
           8,
           8,
           8,
           8,
           8,
           8,
           8,
           8,
           8,
           8,
           8,
           8,
           8,
           8,
           8,
           8,
           8,
           8,
           8,
           8,
           8,
           8,
           8,
           8,
           8,
           8,
           8,
           8,
           8,
           8,
           8,
           8,
           8,
           8,
           8,
           8,
           8,
           8,
           8,
           8,
           8,
           8,
           8,
           8,
           8,
           8,
           7,
           7,
           7,
           7,
           7,
           7,
           7,
           7,
           7,
           7,
           7,
           7,
           7,
           7,
           7,
           7,
           7,
           7,
           7,
           7,
           7,
           7,
           7,
           7,
           7,
           7,
           7,
           7,
           7,
           7,
           7,
           7,
           7,
           7,
           7,
           7,
           7,
           7,
           7,
           7,
           7,
           7,
           7,
           7,
           7,
           7,
           7,
           7,
           7,
           7,
           7,
           7,
           7,
           7,
           7,
           7,
           7,
           7,
           7,
           7,
           7,
           7,
           7,
           7,
           7,
           7,
           7,
           7,
           7,
           7,
           7,
           7,
           7,
           7,
           7,
           7,
           7,
           7,
           7,
           7,
           7,
           7,
           7,
           7,
           7,
           7,
           7,
           7,
           7,
           7,
           7,
           7,
           7,
           7,
           7,
           7,
           7,
           7,
           7,
           7,
           7,
           7,
           7,
           7,
           7,
           7,
           7,
           7,
           7,
           7,
           7,
           7,
           7,
           7,
           7,
           7,
           7,
           7,
           7,
           7,
           7,
           7,
           7,
           7,
           7,
           7,
           7,
           7,
           7,
           7,
           7,
           7,
           7,
           7,
           7,
           7,
           7,
           7,
           7,
           7,
           7,
           7,
           7,
           7,
           7,
           6,
           6,
           6,
           6,
           6,
           6,
           6,
           6,
           6,
           6,
           6,
           6,
           6,
           6,
           6,
           6,
           6,
           6,
           6,
           6,
           6,
           6,
           6,
           6,
           6,
           6,
           6,
           6,
           6,
           6,
           6,
           6,
           6,
           6,
           6,
           6,
           6,
           6,
           6,
           6,
           6,
           6,
           6,
           6,
           6,
           6,
           6,
           6,
           6,
           6,
           6,
           6,
           6,
           6,
           6,
           6,
           6,
           6,
           6,
           6,
           6,
           6,
           6,
           6,
           6,
           6,
           6,
           6,
           6,
           6,
           6,
           6,
           6,
           6,
           6,
           6,
           6,
           6,
           6,
           6,
           6,
           6,
           6,
           6,
           6,
           6,
           6,
           6,
           6,
           6,
           6,
           6,
           6,
           6,
           6,
           6,
           6,
           6,
           6,
           6,
           6,
           6,
           6,
           6,
           6,
           6,
           6,
           6,
           6,
           6,
           6,
           6,
           6,
           6,
           6,
           6,
           6,
           6,
           6,
           6,
           6,
           6,
           6,
           6,
           6,
           6,
           6,
           6,
           6,
           6,
           6,
           6,
           6,
           6,
           6,
           6,
           6,
           6,
           6,
           6,
           6,
           6,
           6,
           6,
           6,
           6,
           6,
           6,
           6,
           6,
           6,
           6,
           6,
           6,
           6,
           6,
           6,
           6,
           6,
           6,
           6,
           6,
           6,
           6,
           6,
           6,
           6,
           6,
           6,
           6,
           6,
           6,
           6,
           6,
           6,
           6,
           6,
           6,
           6,
           6,
           6,
           6,
           6,
           6,
           6,
           6,
           6,
           5,
           5,
           5,
           5,
           5,
           5,
           5,
           5,
           5,
           5,
           5,
           5,
           5,
           5,
           5,
           5,
           5,
           5,
           5,
           5,
           5,
           5,
           5,
           5,
           5,
           5,
           5,
           5,
           5,
           5,
           5,
           5,
           5,
           5,
           5,
           5,
           5,
           5,
           5,
           5,
           5,
           5,
           5,
           5,
           5,
           5,
           5,
           5,
           5,
           5,
           5,
           5,
           5,
           5,
           5,
           5,
           5,
           5,
           5,
           5,
           5,
           5,
           5,
           5,
           5,
           5,
           5,
           5,
           5,
           5,
           5,
           5,
           5,
           5,
           5,
           5,
           5,
           5,
           5,
           5,
           5,
           5,
           5,
           5,
           5,
           5,
           5,
           5,
           5,
           5,
           5,
           5,
           5,
           5,
           5,
           5,
           5,
           5,
           5,
           5,
           5,
           5,
           5,
           5,
           5,
           5,
           5,
           5,
           5,
           5,
           5,
           5,
           5,
           5,
           5,
           5,
           5,
           5,
           5,
           5,
           5
          ],
          "sizemode": "area",
          "sizeref": 0.99
         },
         "mode": "markers",
         "name": "",
         "showlegend": false,
         "subplot": "mapbox",
         "type": "scattermapbox"
        }
       ],
       "layout": {
        "height": 600,
        "legend": {
         "itemsizing": "constant",
         "tracegroupgap": 0
        },
        "mapbox": {
         "center": {
          "lat": -19.563283101369862,
          "lon": -47.37158438356165
         },
         "domain": {
          "x": [
           0,
           1
          ],
          "y": [
           0,
           1
          ]
         },
         "style": "open-street-map",
         "zoom": 3
        },
        "margin": {
         "b": 0,
         "l": 0,
         "r": 0,
         "t": 0
        },
        "template": {
         "data": {
          "bar": [
           {
            "error_x": {
             "color": "#2a3f5f"
            },
            "error_y": {
             "color": "#2a3f5f"
            },
            "marker": {
             "line": {
              "color": "#E5ECF6",
              "width": 0.5
             },
             "pattern": {
              "fillmode": "overlay",
              "size": 10,
              "solidity": 0.2
             }
            },
            "type": "bar"
           }
          ],
          "barpolar": [
           {
            "marker": {
             "line": {
              "color": "#E5ECF6",
              "width": 0.5
             },
             "pattern": {
              "fillmode": "overlay",
              "size": 10,
              "solidity": 0.2
             }
            },
            "type": "barpolar"
           }
          ],
          "carpet": [
           {
            "aaxis": {
             "endlinecolor": "#2a3f5f",
             "gridcolor": "white",
             "linecolor": "white",
             "minorgridcolor": "white",
             "startlinecolor": "#2a3f5f"
            },
            "baxis": {
             "endlinecolor": "#2a3f5f",
             "gridcolor": "white",
             "linecolor": "white",
             "minorgridcolor": "white",
             "startlinecolor": "#2a3f5f"
            },
            "type": "carpet"
           }
          ],
          "choropleth": [
           {
            "colorbar": {
             "outlinewidth": 0,
             "ticks": ""
            },
            "type": "choropleth"
           }
          ],
          "contour": [
           {
            "colorbar": {
             "outlinewidth": 0,
             "ticks": ""
            },
            "colorscale": [
             [
              0,
              "#0d0887"
             ],
             [
              0.1111111111111111,
              "#46039f"
             ],
             [
              0.2222222222222222,
              "#7201a8"
             ],
             [
              0.3333333333333333,
              "#9c179e"
             ],
             [
              0.4444444444444444,
              "#bd3786"
             ],
             [
              0.5555555555555556,
              "#d8576b"
             ],
             [
              0.6666666666666666,
              "#ed7953"
             ],
             [
              0.7777777777777778,
              "#fb9f3a"
             ],
             [
              0.8888888888888888,
              "#fdca26"
             ],
             [
              1,
              "#f0f921"
             ]
            ],
            "type": "contour"
           }
          ],
          "contourcarpet": [
           {
            "colorbar": {
             "outlinewidth": 0,
             "ticks": ""
            },
            "type": "contourcarpet"
           }
          ],
          "heatmap": [
           {
            "colorbar": {
             "outlinewidth": 0,
             "ticks": ""
            },
            "colorscale": [
             [
              0,
              "#0d0887"
             ],
             [
              0.1111111111111111,
              "#46039f"
             ],
             [
              0.2222222222222222,
              "#7201a8"
             ],
             [
              0.3333333333333333,
              "#9c179e"
             ],
             [
              0.4444444444444444,
              "#bd3786"
             ],
             [
              0.5555555555555556,
              "#d8576b"
             ],
             [
              0.6666666666666666,
              "#ed7953"
             ],
             [
              0.7777777777777778,
              "#fb9f3a"
             ],
             [
              0.8888888888888888,
              "#fdca26"
             ],
             [
              1,
              "#f0f921"
             ]
            ],
            "type": "heatmap"
           }
          ],
          "heatmapgl": [
           {
            "colorbar": {
             "outlinewidth": 0,
             "ticks": ""
            },
            "colorscale": [
             [
              0,
              "#0d0887"
             ],
             [
              0.1111111111111111,
              "#46039f"
             ],
             [
              0.2222222222222222,
              "#7201a8"
             ],
             [
              0.3333333333333333,
              "#9c179e"
             ],
             [
              0.4444444444444444,
              "#bd3786"
             ],
             [
              0.5555555555555556,
              "#d8576b"
             ],
             [
              0.6666666666666666,
              "#ed7953"
             ],
             [
              0.7777777777777778,
              "#fb9f3a"
             ],
             [
              0.8888888888888888,
              "#fdca26"
             ],
             [
              1,
              "#f0f921"
             ]
            ],
            "type": "heatmapgl"
           }
          ],
          "histogram": [
           {
            "marker": {
             "pattern": {
              "fillmode": "overlay",
              "size": 10,
              "solidity": 0.2
             }
            },
            "type": "histogram"
           }
          ],
          "histogram2d": [
           {
            "colorbar": {
             "outlinewidth": 0,
             "ticks": ""
            },
            "colorscale": [
             [
              0,
              "#0d0887"
             ],
             [
              0.1111111111111111,
              "#46039f"
             ],
             [
              0.2222222222222222,
              "#7201a8"
             ],
             [
              0.3333333333333333,
              "#9c179e"
             ],
             [
              0.4444444444444444,
              "#bd3786"
             ],
             [
              0.5555555555555556,
              "#d8576b"
             ],
             [
              0.6666666666666666,
              "#ed7953"
             ],
             [
              0.7777777777777778,
              "#fb9f3a"
             ],
             [
              0.8888888888888888,
              "#fdca26"
             ],
             [
              1,
              "#f0f921"
             ]
            ],
            "type": "histogram2d"
           }
          ],
          "histogram2dcontour": [
           {
            "colorbar": {
             "outlinewidth": 0,
             "ticks": ""
            },
            "colorscale": [
             [
              0,
              "#0d0887"
             ],
             [
              0.1111111111111111,
              "#46039f"
             ],
             [
              0.2222222222222222,
              "#7201a8"
             ],
             [
              0.3333333333333333,
              "#9c179e"
             ],
             [
              0.4444444444444444,
              "#bd3786"
             ],
             [
              0.5555555555555556,
              "#d8576b"
             ],
             [
              0.6666666666666666,
              "#ed7953"
             ],
             [
              0.7777777777777778,
              "#fb9f3a"
             ],
             [
              0.8888888888888888,
              "#fdca26"
             ],
             [
              1,
              "#f0f921"
             ]
            ],
            "type": "histogram2dcontour"
           }
          ],
          "mesh3d": [
           {
            "colorbar": {
             "outlinewidth": 0,
             "ticks": ""
            },
            "type": "mesh3d"
           }
          ],
          "parcoords": [
           {
            "line": {
             "colorbar": {
              "outlinewidth": 0,
              "ticks": ""
             }
            },
            "type": "parcoords"
           }
          ],
          "pie": [
           {
            "automargin": true,
            "type": "pie"
           }
          ],
          "scatter": [
           {
            "fillpattern": {
             "fillmode": "overlay",
             "size": 10,
             "solidity": 0.2
            },
            "type": "scatter"
           }
          ],
          "scatter3d": [
           {
            "line": {
             "colorbar": {
              "outlinewidth": 0,
              "ticks": ""
             }
            },
            "marker": {
             "colorbar": {
              "outlinewidth": 0,
              "ticks": ""
             }
            },
            "type": "scatter3d"
           }
          ],
          "scattercarpet": [
           {
            "marker": {
             "colorbar": {
              "outlinewidth": 0,
              "ticks": ""
             }
            },
            "type": "scattercarpet"
           }
          ],
          "scattergeo": [
           {
            "marker": {
             "colorbar": {
              "outlinewidth": 0,
              "ticks": ""
             }
            },
            "type": "scattergeo"
           }
          ],
          "scattergl": [
           {
            "marker": {
             "colorbar": {
              "outlinewidth": 0,
              "ticks": ""
             }
            },
            "type": "scattergl"
           }
          ],
          "scattermapbox": [
           {
            "marker": {
             "colorbar": {
              "outlinewidth": 0,
              "ticks": ""
             }
            },
            "type": "scattermapbox"
           }
          ],
          "scatterpolar": [
           {
            "marker": {
             "colorbar": {
              "outlinewidth": 0,
              "ticks": ""
             }
            },
            "type": "scatterpolar"
           }
          ],
          "scatterpolargl": [
           {
            "marker": {
             "colorbar": {
              "outlinewidth": 0,
              "ticks": ""
             }
            },
            "type": "scatterpolargl"
           }
          ],
          "scatterternary": [
           {
            "marker": {
             "colorbar": {
              "outlinewidth": 0,
              "ticks": ""
             }
            },
            "type": "scatterternary"
           }
          ],
          "surface": [
           {
            "colorbar": {
             "outlinewidth": 0,
             "ticks": ""
            },
            "colorscale": [
             [
              0,
              "#0d0887"
             ],
             [
              0.1111111111111111,
              "#46039f"
             ],
             [
              0.2222222222222222,
              "#7201a8"
             ],
             [
              0.3333333333333333,
              "#9c179e"
             ],
             [
              0.4444444444444444,
              "#bd3786"
             ],
             [
              0.5555555555555556,
              "#d8576b"
             ],
             [
              0.6666666666666666,
              "#ed7953"
             ],
             [
              0.7777777777777778,
              "#fb9f3a"
             ],
             [
              0.8888888888888888,
              "#fdca26"
             ],
             [
              1,
              "#f0f921"
             ]
            ],
            "type": "surface"
           }
          ],
          "table": [
           {
            "cells": {
             "fill": {
              "color": "#EBF0F8"
             },
             "line": {
              "color": "white"
             }
            },
            "header": {
             "fill": {
              "color": "#C8D4E3"
             },
             "line": {
              "color": "white"
             }
            },
            "type": "table"
           }
          ]
         },
         "layout": {
          "annotationdefaults": {
           "arrowcolor": "#2a3f5f",
           "arrowhead": 0,
           "arrowwidth": 1
          },
          "autotypenumbers": "strict",
          "coloraxis": {
           "colorbar": {
            "outlinewidth": 0,
            "ticks": ""
           }
          },
          "colorscale": {
           "diverging": [
            [
             0,
             "#8e0152"
            ],
            [
             0.1,
             "#c51b7d"
            ],
            [
             0.2,
             "#de77ae"
            ],
            [
             0.3,
             "#f1b6da"
            ],
            [
             0.4,
             "#fde0ef"
            ],
            [
             0.5,
             "#f7f7f7"
            ],
            [
             0.6,
             "#e6f5d0"
            ],
            [
             0.7,
             "#b8e186"
            ],
            [
             0.8,
             "#7fbc41"
            ],
            [
             0.9,
             "#4d9221"
            ],
            [
             1,
             "#276419"
            ]
           ],
           "sequential": [
            [
             0,
             "#0d0887"
            ],
            [
             0.1111111111111111,
             "#46039f"
            ],
            [
             0.2222222222222222,
             "#7201a8"
            ],
            [
             0.3333333333333333,
             "#9c179e"
            ],
            [
             0.4444444444444444,
             "#bd3786"
            ],
            [
             0.5555555555555556,
             "#d8576b"
            ],
            [
             0.6666666666666666,
             "#ed7953"
            ],
            [
             0.7777777777777778,
             "#fb9f3a"
            ],
            [
             0.8888888888888888,
             "#fdca26"
            ],
            [
             1,
             "#f0f921"
            ]
           ],
           "sequentialminus": [
            [
             0,
             "#0d0887"
            ],
            [
             0.1111111111111111,
             "#46039f"
            ],
            [
             0.2222222222222222,
             "#7201a8"
            ],
            [
             0.3333333333333333,
             "#9c179e"
            ],
            [
             0.4444444444444444,
             "#bd3786"
            ],
            [
             0.5555555555555556,
             "#d8576b"
            ],
            [
             0.6666666666666666,
             "#ed7953"
            ],
            [
             0.7777777777777778,
             "#fb9f3a"
            ],
            [
             0.8888888888888888,
             "#fdca26"
            ],
            [
             1,
             "#f0f921"
            ]
           ]
          },
          "colorway": [
           "#636efa",
           "#EF553B",
           "#00cc96",
           "#ab63fa",
           "#FFA15A",
           "#19d3f3",
           "#FF6692",
           "#B6E880",
           "#FF97FF",
           "#FECB52"
          ],
          "font": {
           "color": "#2a3f5f"
          },
          "geo": {
           "bgcolor": "white",
           "lakecolor": "white",
           "landcolor": "#E5ECF6",
           "showlakes": true,
           "showland": true,
           "subunitcolor": "white"
          },
          "hoverlabel": {
           "align": "left"
          },
          "hovermode": "closest",
          "mapbox": {
           "style": "light"
          },
          "paper_bgcolor": "white",
          "plot_bgcolor": "#E5ECF6",
          "polar": {
           "angularaxis": {
            "gridcolor": "white",
            "linecolor": "white",
            "ticks": ""
           },
           "bgcolor": "#E5ECF6",
           "radialaxis": {
            "gridcolor": "white",
            "linecolor": "white",
            "ticks": ""
           }
          },
          "scene": {
           "xaxis": {
            "backgroundcolor": "#E5ECF6",
            "gridcolor": "white",
            "gridwidth": 2,
            "linecolor": "white",
            "showbackground": true,
            "ticks": "",
            "zerolinecolor": "white"
           },
           "yaxis": {
            "backgroundcolor": "#E5ECF6",
            "gridcolor": "white",
            "gridwidth": 2,
            "linecolor": "white",
            "showbackground": true,
            "ticks": "",
            "zerolinecolor": "white"
           },
           "zaxis": {
            "backgroundcolor": "#E5ECF6",
            "gridcolor": "white",
            "gridwidth": 2,
            "linecolor": "white",
            "showbackground": true,
            "ticks": "",
            "zerolinecolor": "white"
           }
          },
          "shapedefaults": {
           "line": {
            "color": "#2a3f5f"
           }
          },
          "ternary": {
           "aaxis": {
            "gridcolor": "white",
            "linecolor": "white",
            "ticks": ""
           },
           "baxis": {
            "gridcolor": "white",
            "linecolor": "white",
            "ticks": ""
           },
           "bgcolor": "#E5ECF6",
           "caxis": {
            "gridcolor": "white",
            "linecolor": "white",
            "ticks": ""
           }
          },
          "title": {
           "x": 0.05
          },
          "xaxis": {
           "automargin": true,
           "gridcolor": "white",
           "linecolor": "white",
           "ticks": "",
           "title": {
            "standoff": 15
           },
           "zerolinecolor": "white",
           "zerolinewidth": 2
          },
          "yaxis": {
           "automargin": true,
           "gridcolor": "white",
           "linecolor": "white",
           "ticks": "",
           "title": {
            "standoff": 15
           },
           "zerolinecolor": "white",
           "zerolinewidth": 2
          }
         }
        }
       }
      }
     },
     "metadata": {},
     "output_type": "display_data"
    }
   ],
   "source": [
    "fig = px.scatter_mapbox(licit_municipios_lat_long, lat=\"latitude\", lon=\"longitude\", hover_name=\"municipio\", hover_data=\"total\", size=\"total\",\n",
    "                        color_discrete_sequence=[\"fuchsia\"], zoom=3, height=600)\n",
    "fig.update_layout(mapbox_style=\"open-street-map\")\n",
    "fig.update_layout(margin={\"r\":0,\"t\":0,\"l\":0,\"b\":0})\n",
    "fig.show()"
   ]
  },
  {
   "cell_type": "markdown",
   "metadata": {},
   "source": [
    "### Uma das coisas mais importantes para quem pesquisa no portal é conseguir ver quais items estão sendo licitados por edital sem ter que abrir cada um.\n",
    "#### Por exemplo, seria interessante termos uma tabela indicando diretamente quais itens e os valores que estão sendo pedidos por edital."
   ]
  },
  {
   "cell_type": "code",
   "execution_count": 177,
   "metadata": {},
   "outputs": [
    {
     "data": {
      "text/plain": [
       "3"
      ]
     },
     "execution_count": 177,
     "metadata": {},
     "output_type": "execute_result"
    }
   ],
   "source": [
    "params_editais = {\n",
    "        'tipos_documento': 'edital',\n",
    "        'ordenacao': '-data',\n",
    "        'pagina': '1',\n",
    "        'tam_pagina': '10',\n",
    "        'status': 'recebendo_proposta',\n",
    "        'municipios': 4359\n",
    "    }\n",
    "\n",
    "r = request_editais(params_editais)\n",
    "\n",
    "total_items = r.json()['total']\n",
    "total_paginas = ceil(total_items/int(params_editais['tam_pagina']))\n",
    "total_paginas"
   ]
  },
  {
   "cell_type": "code",
   "execution_count": 178,
   "metadata": {},
   "outputs": [
    {
     "data": {
      "text/html": [
       "<div>\n",
       "<style scoped>\n",
       "    .dataframe tbody tr th:only-of-type {\n",
       "        vertical-align: middle;\n",
       "    }\n",
       "\n",
       "    .dataframe tbody tr th {\n",
       "        vertical-align: top;\n",
       "    }\n",
       "\n",
       "    .dataframe thead th {\n",
       "        text-align: right;\n",
       "    }\n",
       "</style>\n",
       "<table border=\"1\" class=\"dataframe\">\n",
       "  <thead>\n",
       "    <tr style=\"text-align: right;\">\n",
       "      <th></th>\n",
       "      <th></th>\n",
       "      <th></th>\n",
       "      <th>Descricao_Item</th>\n",
       "      <th>Tipo</th>\n",
       "      <th>Qtd</th>\n",
       "      <th>Un. Medida</th>\n",
       "      <th>Valor_Unit.</th>\n",
       "      <th>Valor_Total</th>\n",
       "      <th>Sigiloso</th>\n",
       "      <th>Tipo_Beneficio</th>\n",
       "      <th>Municipio</th>\n",
       "      <th>Esfera</th>\n",
       "      <th>UF</th>\n",
       "      <th>Orgao</th>\n",
       "      <th>Descricao</th>\n",
       "      <th>Modalidade</th>\n",
       "      <th>Data_Inicio</th>\n",
       "      <th>Data_Fim</th>\n",
       "    </tr>\n",
       "    <tr>\n",
       "      <th>Ano</th>\n",
       "      <th>Numero_Sequencial</th>\n",
       "      <th>Orgao_CNPJ</th>\n",
       "      <th></th>\n",
       "      <th></th>\n",
       "      <th></th>\n",
       "      <th></th>\n",
       "      <th></th>\n",
       "      <th></th>\n",
       "      <th></th>\n",
       "      <th></th>\n",
       "      <th></th>\n",
       "      <th></th>\n",
       "      <th></th>\n",
       "      <th></th>\n",
       "      <th></th>\n",
       "      <th></th>\n",
       "      <th></th>\n",
       "      <th></th>\n",
       "    </tr>\n",
       "  </thead>\n",
       "  <tbody>\n",
       "    <tr>\n",
       "      <th rowspan=\"5\" valign=\"top\">2024</th>\n",
       "      <th rowspan=\"5\" valign=\"top\">27</th>\n",
       "      <th>83102343000194</th>\n",
       "      <td>RAÇÃO CANINA SUPER PREMIUM PARA CÃES IDOSOS, D...</td>\n",
       "      <td>Material</td>\n",
       "      <td>300.0</td>\n",
       "      <td>Quilo</td>\n",
       "      <td>26.49</td>\n",
       "      <td>7947.00</td>\n",
       "      <td>False</td>\n",
       "      <td>Sem benefício</td>\n",
       "      <td>Brusque</td>\n",
       "      <td>Municipal</td>\n",
       "      <td>SC</td>\n",
       "      <td>MUNICIPIO DE BRUSQUE</td>\n",
       "      <td>[Portal de Compras Públicas] - REGISTRO DE PRE...</td>\n",
       "      <td>Pregão - Eletrônico</td>\n",
       "      <td>2024-03-25T08:30</td>\n",
       "      <td>2024-04-05T08:30</td>\n",
       "    </tr>\n",
       "    <tr>\n",
       "      <th>83102343000194</th>\n",
       "      <td>ALIMENTO COADJUVANTE ÚMIDO PARA CÃES ADULTOS. ...</td>\n",
       "      <td>Material</td>\n",
       "      <td>60.0</td>\n",
       "      <td>Unidade</td>\n",
       "      <td>2.99</td>\n",
       "      <td>179.40</td>\n",
       "      <td>False</td>\n",
       "      <td>Sem benefício</td>\n",
       "      <td>Brusque</td>\n",
       "      <td>Municipal</td>\n",
       "      <td>SC</td>\n",
       "      <td>MUNICIPIO DE BRUSQUE</td>\n",
       "      <td>[Portal de Compras Públicas] - REGISTRO DE PRE...</td>\n",
       "      <td>Pregão - Eletrônico</td>\n",
       "      <td>2024-03-25T08:30</td>\n",
       "      <td>2024-04-05T08:30</td>\n",
       "    </tr>\n",
       "    <tr>\n",
       "      <th>83102343000194</th>\n",
       "      <td>SNACKE CROCANTE (PETISCO) PARA CÃES, PORTE MÉD...</td>\n",
       "      <td>Material</td>\n",
       "      <td>12.0</td>\n",
       "      <td>Unidade</td>\n",
       "      <td>27.92</td>\n",
       "      <td>335.04</td>\n",
       "      <td>False</td>\n",
       "      <td>Sem benefício</td>\n",
       "      <td>Brusque</td>\n",
       "      <td>Municipal</td>\n",
       "      <td>SC</td>\n",
       "      <td>MUNICIPIO DE BRUSQUE</td>\n",
       "      <td>[Portal de Compras Públicas] - REGISTRO DE PRE...</td>\n",
       "      <td>Pregão - Eletrônico</td>\n",
       "      <td>2024-03-25T08:30</td>\n",
       "      <td>2024-04-05T08:30</td>\n",
       "    </tr>\n",
       "    <tr>\n",
       "      <th>83102343000194</th>\n",
       "      <td>COLEIRA,  CINZENTA, INODORA ANTI-PULGAS.  SUBS...</td>\n",
       "      <td>Material</td>\n",
       "      <td>6.0</td>\n",
       "      <td>Unidade</td>\n",
       "      <td>229.83</td>\n",
       "      <td>1378.98</td>\n",
       "      <td>False</td>\n",
       "      <td>Sem benefício</td>\n",
       "      <td>Brusque</td>\n",
       "      <td>Municipal</td>\n",
       "      <td>SC</td>\n",
       "      <td>MUNICIPIO DE BRUSQUE</td>\n",
       "      <td>[Portal de Compras Públicas] - REGISTRO DE PRE...</td>\n",
       "      <td>Pregão - Eletrônico</td>\n",
       "      <td>2024-03-25T08:30</td>\n",
       "      <td>2024-04-05T08:30</td>\n",
       "    </tr>\n",
       "    <tr>\n",
       "      <th>83102343000194</th>\n",
       "      <td>SHAMPOO ANTIPULGAS-PERMETRINA 1%, INDICADO PAR...</td>\n",
       "      <td>Material</td>\n",
       "      <td>6.0</td>\n",
       "      <td>Unidade</td>\n",
       "      <td>31.93</td>\n",
       "      <td>191.58</td>\n",
       "      <td>False</td>\n",
       "      <td>Sem benefício</td>\n",
       "      <td>Brusque</td>\n",
       "      <td>Municipal</td>\n",
       "      <td>SC</td>\n",
       "      <td>MUNICIPIO DE BRUSQUE</td>\n",
       "      <td>[Portal de Compras Públicas] - REGISTRO DE PRE...</td>\n",
       "      <td>Pregão - Eletrônico</td>\n",
       "      <td>2024-03-25T08:30</td>\n",
       "      <td>2024-04-05T08:30</td>\n",
       "    </tr>\n",
       "    <tr>\n",
       "      <th>...</th>\n",
       "      <th>...</th>\n",
       "      <th>...</th>\n",
       "      <td>...</td>\n",
       "      <td>...</td>\n",
       "      <td>...</td>\n",
       "      <td>...</td>\n",
       "      <td>...</td>\n",
       "      <td>...</td>\n",
       "      <td>...</td>\n",
       "      <td>...</td>\n",
       "      <td>...</td>\n",
       "      <td>...</td>\n",
       "      <td>...</td>\n",
       "      <td>...</td>\n",
       "      <td>...</td>\n",
       "      <td>...</td>\n",
       "      <td>...</td>\n",
       "      <td>...</td>\n",
       "    </tr>\n",
       "    <tr>\n",
       "      <th rowspan=\"5\" valign=\"top\">2023</th>\n",
       "      <th>13</th>\n",
       "      <th>11188015000141</th>\n",
       "      <td>GRUPO 02 PROCEDIMENTOS COM FINALIDADES DIAGNÓS...</td>\n",
       "      <td>Material</td>\n",
       "      <td>1.0</td>\n",
       "      <td>UNIDADE (UN)</td>\n",
       "      <td>2980800.00</td>\n",
       "      <td>2980800.00</td>\n",
       "      <td>False</td>\n",
       "      <td>Não se aplica</td>\n",
       "      <td>Brusque</td>\n",
       "      <td>Municipal</td>\n",
       "      <td>SC</td>\n",
       "      <td>FUNDO MUNICIPAL DE SAUDE</td>\n",
       "      <td>CREDENCIAMENTO DE LABORATÓRIOS PARA PRESTAÇÃO ...</td>\n",
       "      <td>Credenciamento</td>\n",
       "      <td>2023-10-25T08:00</td>\n",
       "      <td>2024-10-25T17:30</td>\n",
       "    </tr>\n",
       "    <tr>\n",
       "      <th>3</th>\n",
       "      <th>04894677000171</th>\n",
       "      <td>AVALIACAO DE PROJETOS</td>\n",
       "      <td>Material</td>\n",
       "      <td>1.0</td>\n",
       "      <td>UNIDADE (UN)</td>\n",
       "      <td>30000.00</td>\n",
       "      <td>30000.00</td>\n",
       "      <td>False</td>\n",
       "      <td>Não se aplica</td>\n",
       "      <td>Brusque</td>\n",
       "      <td>Municipal</td>\n",
       "      <td>SC</td>\n",
       "      <td>FUNDACAO CULTURAL DE BRUSQUE</td>\n",
       "      <td>CREDENCIAMENTO DE PROFISSIONAIS PARA EXERCER A...</td>\n",
       "      <td>Credenciamento</td>\n",
       "      <td>2023-09-18T08:00</td>\n",
       "      <td>2024-09-18T17:30</td>\n",
       "    </tr>\n",
       "    <tr>\n",
       "      <th>7</th>\n",
       "      <th>11188015000141</th>\n",
       "      <td>GRUPO 07 ÓRTESES, PRÓTESES E MATERIAIS ESPECIA...</td>\n",
       "      <td>Material</td>\n",
       "      <td>12.0</td>\n",
       "      <td>UNIDADE (UN)</td>\n",
       "      <td>14250.00</td>\n",
       "      <td>171000.00</td>\n",
       "      <td>False</td>\n",
       "      <td>Não se aplica</td>\n",
       "      <td>Brusque</td>\n",
       "      <td>Municipal</td>\n",
       "      <td>SC</td>\n",
       "      <td>FUNDO MUNICIPAL DE SAUDE</td>\n",
       "      <td>CREDENCIAMENTO DE LABORATÓRIOS PARA PRESTAÇÃO ...</td>\n",
       "      <td>Credenciamento</td>\n",
       "      <td>2023-08-25T08:00</td>\n",
       "      <td>2024-08-23T17:30</td>\n",
       "    </tr>\n",
       "    <tr>\n",
       "      <th>1</th>\n",
       "      <th>04894677000171</th>\n",
       "      <td>PRESTAÇÃO DE SERVIÇOS DE PROFISSIONAIS DE ARTE...</td>\n",
       "      <td>Material</td>\n",
       "      <td>1.0</td>\n",
       "      <td>SERV. (SERV.)</td>\n",
       "      <td>60000.00</td>\n",
       "      <td>60000.00</td>\n",
       "      <td>False</td>\n",
       "      <td>Não se aplica</td>\n",
       "      <td>Brusque</td>\n",
       "      <td>Municipal</td>\n",
       "      <td>SC</td>\n",
       "      <td>FUNDACAO CULTURAL DE BRUSQUE</td>\n",
       "      <td>CREDENCIAMENTO DE PROFISSIONAIS DE ARTE E CULT...</td>\n",
       "      <td>Credenciamento</td>\n",
       "      <td>2023-07-28T08:00</td>\n",
       "      <td>2024-07-29T17:00</td>\n",
       "    </tr>\n",
       "    <tr>\n",
       "      <th>3</th>\n",
       "      <th>11188015000141</th>\n",
       "      <td>SERVIÇOS DE SAÚDE NA ESPECIALIDADE DE OFTALMOL...</td>\n",
       "      <td>Serviço</td>\n",
       "      <td>1.0</td>\n",
       "      <td>UNIDADE (UND.)</td>\n",
       "      <td>1200000.00</td>\n",
       "      <td>1200000.00</td>\n",
       "      <td>False</td>\n",
       "      <td>Não se aplica</td>\n",
       "      <td>Brusque</td>\n",
       "      <td>Municipal</td>\n",
       "      <td>SC</td>\n",
       "      <td>FUNDO MUNICIPAL DE SAUDE</td>\n",
       "      <td>CREDENCIAMENTO DE PRESTADORES DE SERVIÇOS DE S...</td>\n",
       "      <td>Credenciamento</td>\n",
       "      <td>2023-07-20T08:00</td>\n",
       "      <td>2024-07-19T17:30</td>\n",
       "    </tr>\n",
       "  </tbody>\n",
       "</table>\n",
       "<p>218 rows × 16 columns</p>\n",
       "</div>"
      ],
      "text/plain": [
       "                                                                          Descricao_Item  \\\n",
       "Ano  Numero_Sequencial Orgao_CNPJ                                                          \n",
       "2024 27                83102343000194  RAÇÃO CANINA SUPER PREMIUM PARA CÃES IDOSOS, D...   \n",
       "                       83102343000194  ALIMENTO COADJUVANTE ÚMIDO PARA CÃES ADULTOS. ...   \n",
       "                       83102343000194  SNACKE CROCANTE (PETISCO) PARA CÃES, PORTE MÉD...   \n",
       "                       83102343000194  COLEIRA,  CINZENTA, INODORA ANTI-PULGAS.  SUBS...   \n",
       "                       83102343000194  SHAMPOO ANTIPULGAS-PERMETRINA 1%, INDICADO PAR...   \n",
       "...                                                                                  ...   \n",
       "2023 13                11188015000141  GRUPO 02 PROCEDIMENTOS COM FINALIDADES DIAGNÓS...   \n",
       "     3                 04894677000171                              AVALIACAO DE PROJETOS   \n",
       "     7                 11188015000141  GRUPO 07 ÓRTESES, PRÓTESES E MATERIAIS ESPECIA...   \n",
       "     1                 04894677000171  PRESTAÇÃO DE SERVIÇOS DE PROFISSIONAIS DE ARTE...   \n",
       "     3                 11188015000141  SERVIÇOS DE SAÚDE NA ESPECIALIDADE DE OFTALMOL...   \n",
       "\n",
       "                                           Tipo    Qtd      Un. Medida  \\\n",
       "Ano  Numero_Sequencial Orgao_CNPJ                                        \n",
       "2024 27                83102343000194  Material  300.0           Quilo   \n",
       "                       83102343000194  Material   60.0         Unidade   \n",
       "                       83102343000194  Material   12.0         Unidade   \n",
       "                       83102343000194  Material    6.0         Unidade   \n",
       "                       83102343000194  Material    6.0         Unidade   \n",
       "...                                         ...    ...             ...   \n",
       "2023 13                11188015000141  Material    1.0    UNIDADE (UN)   \n",
       "     3                 04894677000171  Material    1.0    UNIDADE (UN)   \n",
       "     7                 11188015000141  Material   12.0    UNIDADE (UN)   \n",
       "     1                 04894677000171  Material    1.0   SERV. (SERV.)   \n",
       "     3                 11188015000141   Serviço    1.0  UNIDADE (UND.)   \n",
       "\n",
       "                                       Valor_Unit.  Valor_Total  Sigiloso  \\\n",
       "Ano  Numero_Sequencial Orgao_CNPJ                                           \n",
       "2024 27                83102343000194        26.49      7947.00     False   \n",
       "                       83102343000194         2.99       179.40     False   \n",
       "                       83102343000194        27.92       335.04     False   \n",
       "                       83102343000194       229.83      1378.98     False   \n",
       "                       83102343000194        31.93       191.58     False   \n",
       "...                                            ...          ...       ...   \n",
       "2023 13                11188015000141   2980800.00   2980800.00     False   \n",
       "     3                 04894677000171     30000.00     30000.00     False   \n",
       "     7                 11188015000141     14250.00    171000.00     False   \n",
       "     1                 04894677000171     60000.00     60000.00     False   \n",
       "     3                 11188015000141   1200000.00   1200000.00     False   \n",
       "\n",
       "                                      Tipo_Beneficio Municipio     Esfera  UF  \\\n",
       "Ano  Numero_Sequencial Orgao_CNPJ                                               \n",
       "2024 27                83102343000194  Sem benefício   Brusque  Municipal  SC   \n",
       "                       83102343000194  Sem benefício   Brusque  Municipal  SC   \n",
       "                       83102343000194  Sem benefício   Brusque  Municipal  SC   \n",
       "                       83102343000194  Sem benefício   Brusque  Municipal  SC   \n",
       "                       83102343000194  Sem benefício   Brusque  Municipal  SC   \n",
       "...                                              ...       ...        ...  ..   \n",
       "2023 13                11188015000141  Não se aplica   Brusque  Municipal  SC   \n",
       "     3                 04894677000171  Não se aplica   Brusque  Municipal  SC   \n",
       "     7                 11188015000141  Não se aplica   Brusque  Municipal  SC   \n",
       "     1                 04894677000171  Não se aplica   Brusque  Municipal  SC   \n",
       "     3                 11188015000141  Não se aplica   Brusque  Municipal  SC   \n",
       "\n",
       "                                                              Orgao  \\\n",
       "Ano  Numero_Sequencial Orgao_CNPJ                                     \n",
       "2024 27                83102343000194          MUNICIPIO DE BRUSQUE   \n",
       "                       83102343000194          MUNICIPIO DE BRUSQUE   \n",
       "                       83102343000194          MUNICIPIO DE BRUSQUE   \n",
       "                       83102343000194          MUNICIPIO DE BRUSQUE   \n",
       "                       83102343000194          MUNICIPIO DE BRUSQUE   \n",
       "...                                                             ...   \n",
       "2023 13                11188015000141      FUNDO MUNICIPAL DE SAUDE   \n",
       "     3                 04894677000171  FUNDACAO CULTURAL DE BRUSQUE   \n",
       "     7                 11188015000141      FUNDO MUNICIPAL DE SAUDE   \n",
       "     1                 04894677000171  FUNDACAO CULTURAL DE BRUSQUE   \n",
       "     3                 11188015000141      FUNDO MUNICIPAL DE SAUDE   \n",
       "\n",
       "                                                                               Descricao  \\\n",
       "Ano  Numero_Sequencial Orgao_CNPJ                                                          \n",
       "2024 27                83102343000194  [Portal de Compras Públicas] - REGISTRO DE PRE...   \n",
       "                       83102343000194  [Portal de Compras Públicas] - REGISTRO DE PRE...   \n",
       "                       83102343000194  [Portal de Compras Públicas] - REGISTRO DE PRE...   \n",
       "                       83102343000194  [Portal de Compras Públicas] - REGISTRO DE PRE...   \n",
       "                       83102343000194  [Portal de Compras Públicas] - REGISTRO DE PRE...   \n",
       "...                                                                                  ...   \n",
       "2023 13                11188015000141  CREDENCIAMENTO DE LABORATÓRIOS PARA PRESTAÇÃO ...   \n",
       "     3                 04894677000171  CREDENCIAMENTO DE PROFISSIONAIS PARA EXERCER A...   \n",
       "     7                 11188015000141  CREDENCIAMENTO DE LABORATÓRIOS PARA PRESTAÇÃO ...   \n",
       "     1                 04894677000171  CREDENCIAMENTO DE PROFISSIONAIS DE ARTE E CULT...   \n",
       "     3                 11188015000141  CREDENCIAMENTO DE PRESTADORES DE SERVIÇOS DE S...   \n",
       "\n",
       "                                                Modalidade       Data_Inicio  \\\n",
       "Ano  Numero_Sequencial Orgao_CNPJ                                              \n",
       "2024 27                83102343000194  Pregão - Eletrônico  2024-03-25T08:30   \n",
       "                       83102343000194  Pregão - Eletrônico  2024-03-25T08:30   \n",
       "                       83102343000194  Pregão - Eletrônico  2024-03-25T08:30   \n",
       "                       83102343000194  Pregão - Eletrônico  2024-03-25T08:30   \n",
       "                       83102343000194  Pregão - Eletrônico  2024-03-25T08:30   \n",
       "...                                                    ...               ...   \n",
       "2023 13                11188015000141       Credenciamento  2023-10-25T08:00   \n",
       "     3                 04894677000171       Credenciamento  2023-09-18T08:00   \n",
       "     7                 11188015000141       Credenciamento  2023-08-25T08:00   \n",
       "     1                 04894677000171       Credenciamento  2023-07-28T08:00   \n",
       "     3                 11188015000141       Credenciamento  2023-07-20T08:00   \n",
       "\n",
       "                                               Data_Fim  \n",
       "Ano  Numero_Sequencial Orgao_CNPJ                        \n",
       "2024 27                83102343000194  2024-04-05T08:30  \n",
       "                       83102343000194  2024-04-05T08:30  \n",
       "                       83102343000194  2024-04-05T08:30  \n",
       "                       83102343000194  2024-04-05T08:30  \n",
       "                       83102343000194  2024-04-05T08:30  \n",
       "...                                                 ...  \n",
       "2023 13                11188015000141  2024-10-25T17:30  \n",
       "     3                 04894677000171  2024-09-18T17:30  \n",
       "     7                 11188015000141  2024-08-23T17:30  \n",
       "     1                 04894677000171  2024-07-29T17:00  \n",
       "     3                 11188015000141  2024-07-19T17:30  \n",
       "\n",
       "[218 rows x 16 columns]"
      ]
     },
     "execution_count": 178,
     "metadata": {},
     "output_type": "execute_result"
    }
   ],
   "source": [
    "editais = []\n",
    "items = []\n",
    "df_editais = pd.DataFrame()\n",
    "df_items = pd.DataFrame()\n",
    "\n",
    "params_items = {\n",
    "    'páginas': 1,\n",
    "    'tamanhoPagina': 10,\n",
    "    'municipios': 4359\n",
    "}\n",
    "\n",
    "for pagina in range(1,total_paginas + 1):\n",
    "    \n",
    "    params_editais['pagina'] = pagina\n",
    "    registros_editais = pd.json_normalize(request_editais(params_editais).json()['items'])[['municipio_nome','esfera_nome', 'uf', 'orgao_nome', 'orgao_cnpj' ,'description', 'modalidade_licitacao_nome',\n",
    "                                              'data_inicio_vigencia', 'data_fim_vigencia', 'ano', 'numero_sequencial']]\n",
    "    editais.append(registros_editais)\n",
    "    for edital in range(len(registros_editais)):\n",
    "        orgao_cnpj = registros_editais['orgao_cnpj'][edital] #Colocar o numerp da linha do df_editais\n",
    "        ano_url = registros_editais['ano'][edital] # conferir para ver se realmente o ano que consta na url\n",
    "        numero_sequencial = registros_editais['numero_sequencial'][edital]\n",
    "\n",
    "        items_qtd = requests.get('https://pncp.gov.br/api/pncp/v1/orgaos/' + orgao_cnpj + '/compras/' + ano_url + '/' + numero_sequencial +'/itens/quantidade').json()\n",
    "        total_paginas_items = ceil(items_qtd / params_items['tamanhoPagina'])\n",
    "    \n",
    "        for pagina_item in range(1,total_paginas_items + 1):\n",
    "\n",
    "            params_items['páginas'] = pagina_item\n",
    "\n",
    "            r_items = requests.get('https://pncp.gov.br/api/pncp/v1/orgaos/' + orgao_cnpj +'/compras/' + ano_url + '/' +  numero_sequencial + '/itens?', params=params_items)\n",
    "\n",
    "            registro_items = pd.json_normalize(r_items.json()) \\\n",
    "                [['descricao', 'materialOuServicoNome', 'quantidade', 'unidadeMedida', 'valorUnitarioEstimado', 'valorTotal', 'orcamentoSigiloso', 'tipoBeneficioNome']]\n",
    "            registro_items['Numero_Sequencial'] = numero_sequencial\n",
    "            registro_items['Orgao_CNPJ'] = orgao_cnpj\n",
    "            registro_items['Ano'] = ano_url\n",
    "\n",
    "            items.append(registro_items)\n",
    "    \n",
    "df_items = pd.concat(items, ignore_index=True)\n",
    "df_items.rename(columns = {'descricao':'Descricao_Item','materialOuServicoNome':'Tipo','quantidade':'Qtd','unidadeMedida':'Un. Medida',\n",
    "                            'valorUnitarioEstimado':'Valor_Unit.', 'valorTotal':'Valor_Total', 'orcamentoSigiloso':'Sigiloso',\n",
    "                            'tipoBeneficioNome':'Tipo_Beneficio'}, inplace = True)\n",
    "\n",
    "\n",
    "df_editais = pd.concat(editais, ignore_index=True)\n",
    "df_editais.rename(columns = {'numero_sequencial':'Numero_Sequencial', 'municipio_nome':'Municipio', 'esfera_nome':'Esfera', 'orgao_nome':'Orgao', 'orgao_cnpj':'Orgao_CNPJ', 'description':'Descricao',\n",
    "                              'modalidade_licitacao_nome':'Modalidade', 'data_inicio_vigencia':'Data_Inicio',\n",
    "                                'data_fim_vigencia':'Data_Fim', 'ano':'Ano', 'uf': 'UF'}, inplace = True)\n",
    "\n",
    "\n",
    "df_compilado = df_items.merge(df_editais, left_on=['Ano', 'Numero_Sequencial', 'Orgao_CNPJ'], right_on=['Ano', 'Numero_Sequencial', 'Orgao_CNPJ'])\n",
    "df_compilado.set_index(['Ano', 'Numero_Sequencial', 'Orgao_CNPJ'])"
   ]
  },
  {
   "cell_type": "markdown",
   "metadata": {},
   "source": [
    "#### No entanto essa operação exige o request de diversas páginas ao servidor, o que leva um tempo considerável se não for realizado em paralelo, como pode ser observado acima."
   ]
  },
  {
   "cell_type": "markdown",
   "metadata": {},
   "source": [
    "### Testando request paralelizado\n",
    "\n",
    "#### TODO: criar listas com os links dos editais e outra lista com os links de cada página de cada edital;"
   ]
  },
  {
   "cell_type": "code",
   "execution_count": null,
   "metadata": {},
   "outputs": [],
   "source": [
    "nest_asyncio.apply()\n",
    "loop = asyncio.get_event_loop()\n",
    "\n",
    "links_editais = []\n",
    "lista_editais = []\n",
    "df_editais = pd.DataFrame()\n",
    "\n",
    "params_editais = {\n",
    "        'q':'',\n",
    "        'tipos_documento': 'edital',\n",
    "        'ordenacao': '-data',\n",
    "        'tam_pagina': '10',\n",
    "        'status': 'recebendo_proposta',\n",
    "        'municipios': 4006,\n",
    "        'pagina': '1',\n",
    "    }\n",
    "\n",
    "r = request_editais(params_editais)\n",
    "\n",
    "total_items = r.json()['total']\n",
    "total_paginas = ceil(total_items/int(params_editais['tam_pagina']))\n",
    "total_paginas\n",
    "\n",
    "url_base = 'https://pncp.gov.br/api/search/?'\n",
    "\n",
    "for pagina in range(1,total_paginas + 1):\n",
    "    \n",
    "    params_editais['pagina'] = pagina\n",
    "    links_editais.append(url_base +  urlencode(params_editais))\n",
    "    \n",
    "editais = loop.run_until_complete(main(links_editais))\n",
    "\n",
    "# for i in range(0,len(editais)): #limitado pelo numero de páginas suportados no site de 999\n",
    "#   lista_editais.append(editais[i]['items'])\n",
    "\n",
    "# lista_df_editais = [pd.json_normalize(lista_editais[i]) for i in range(len(lista_editais))]\n",
    "# df_editais = pd.concat(lista_df_editais, ignore_index=True)\n",
    "# df_editais"
   ]
  },
  {
   "cell_type": "code",
   "execution_count": null,
   "metadata": {},
   "outputs": [],
   "source": [
    "link_editais =[]\n",
    "partes_do_link = editais[0]['items'][0]['item_url'].split('/')\n",
    "link_editais = 'https://pncp.gov.br/api/pncp/v1/orgaos/' +  partes_do_link[2] + '/compras/' + partes_do_link[3] + '/' + partes_do_link[4]\n",
    "link_editais"
   ]
  },
  {
   "cell_type": "code",
   "execution_count": null,
   "metadata": {},
   "outputs": [],
   "source": [
    "links_total_items_edital = ['https://pncp.gov.br/api/pncp/v1/orgaos/'+ url.split('/')[2] + '/compras/' + url.split('/')[3] + '/' + url.split('/')[4] + '/itens/quantidade' for url in df_editais['item_url']]"
   ]
  },
  {
   "cell_type": "code",
   "execution_count": null,
   "metadata": {},
   "outputs": [],
   "source": [
    "links_total_items_edital"
   ]
  },
  {
   "cell_type": "code",
   "execution_count": null,
   "metadata": {},
   "outputs": [],
   "source": [
    "nest_asyncio.apply()\n",
    "loop = asyncio.get_event_loop()\n",
    "\n",
    "total_items_edital = loop.run_until_complete(main(links_total_items_edital))\n",
    "total_items_edital"
   ]
  },
  {
   "cell_type": "code",
   "execution_count": null,
   "metadata": {},
   "outputs": [],
   "source": [
    "params_items = {\n",
    "    'páginas': '1',\n",
    "    'tamanhoPagina': '10'\n",
    "}\n",
    "\n",
    "link_itens_edital = []\n",
    "paginas_items_edital = [ceil(int(x) / int(params_items['tamanhoPagina'])) for x in total_items_edital]\n",
    "for item in range(len(links_total_items_edital)):\n",
    "  if paginas_items_edital[item] > 1:\n",
    "    link = [links_total_items_edital[item-1][:-11] + '?pagina=' + str(i) + '&tamanhoPagina=' + params_items['tamanhoPagina'] for i in range(1,paginas_items_edital[item] +1)]\n",
    "    link_itens_edital.extend(link)\n",
    "  else: link_itens_edital.append(links_total_items_edital[item-1][:-11] + '?pagina=' + str(1) + '&tamanhoPagina=' + params_items['tamanhoPagina'])"
   ]
  },
  {
   "cell_type": "code",
   "execution_count": null,
   "metadata": {},
   "outputs": [],
   "source": [
    "link_itens_edital"
   ]
  },
  {
   "cell_type": "code",
   "execution_count": null,
   "metadata": {},
   "outputs": [],
   "source": [
    "total_items_todos_edital = loop.run_until_complete(main(link_itens_edital))\n",
    "total_items_todos_edital"
   ]
  },
  {
   "cell_type": "code",
   "execution_count": null,
   "metadata": {},
   "outputs": [],
   "source": [
    "df=pd.DataFrame()\n",
    "for i in range(len(total_items_todos_edital)):\n",
    "  \n",
    "  df = pd.concat([df, pd.json_normalize(total_items_todos_edital[i])], ignore_index=True)\n",
    "df.unstack()\n",
    "df"
   ]
  },
  {
   "cell_type": "code",
   "execution_count": null,
   "metadata": {},
   "outputs": [],
   "source": [
    "params_editais = {\n",
    "        'tipos_documento': 'edital',\n",
    "        'ordenacao': '-data',\n",
    "        'pagina': '1',\n",
    "        'tam_pagina': '10',\n",
    "        'status': 'recebendo_proposta',\n",
    "        'municipios': None\n",
    "    }\n",
    "\n",
    "filters = request_editais(params_editais).json()['filters']\n",
    "columns = pd.json_normalize(request_editais(params_editais).json()['filters']).columns\n",
    "df_filters = []\n",
    "\n",
    "\n",
    "for column in columns:\n",
    "  df_filters.append(pd.json_normalize(filters[column]))\n",
    "\n",
    "df_filters[5]"
   ]
  }
 ],
 "metadata": {
  "kernelspec": {
   "display_name": "Python 3.9.13",
   "language": "python",
   "name": "python3"
  },
  "language_info": {
   "codemirror_mode": {
    "name": "ipython",
    "version": 3
   },
   "file_extension": ".py",
   "mimetype": "text/x-python",
   "name": "python",
   "nbconvert_exporter": "python",
   "pygments_lexer": "ipython3",
   "version": "3.12.1"
  }
 },
 "nbformat": 4,
 "nbformat_minor": 4
}
